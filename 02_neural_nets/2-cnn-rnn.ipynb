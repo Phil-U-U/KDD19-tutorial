{
 "cells": [
  {
   "cell_type": "markdown",
   "metadata": {
    "slideshow": {
     "slide_type": "slide"
    }
   },
   "source": [
    "# Convolutional Neural Networks and Recurrent Neural Networks"
   ]
  },
  {
   "cell_type": "markdown",
   "metadata": {
    "slideshow": {
     "slide_type": "skip"
    }
   },
   "source": [
    "Now that you know how to implement a multilayer perceptron,\n",
    "we'll demonstrate how to implement a convolutional neural network, a popular approach for working with images. "
   ]
  },
  {
   "cell_type": "code",
   "execution_count": 1,
   "metadata": {
    "ExecuteTime": {
     "end_time": "2019-07-26T22:46:08.117470Z",
     "start_time": "2019-07-26T22:46:03.435151Z"
    },
    "collapsed": true,
    "slideshow": {
     "slide_type": "fragment"
    }
   },
   "outputs": [],
   "source": [
    "import d2l\n",
    "import numpy as np\n",
    "import mxnet as mx\n",
    "from mxnet import nd, autograd, gluon\n",
    "from mxnet.gluon import nn\n",
    "from matplotlib import pyplot as plt\n",
    "\n",
    "ctx = d2l.try_gpu()"
   ]
  },
  {
   "cell_type": "markdown",
   "metadata": {
    "slideshow": {
     "slide_type": "slide"
    }
   },
   "source": [
    "## `Block` composition and LeNet"
   ]
  },
  {
   "cell_type": "markdown",
   "metadata": {
    "slideshow": {
     "slide_type": "skip"
    }
   },
   "source": [
    "`gluon` makes it easy to combine `Block`s in various ways to build composite `Block`s.\n",
    "\n",
    "One easy way is to use `gluon.nn.Sequential`, which takes an arbitrary number of `Block`s\n",
    "as parameters and runs them in Sequence, passing the output each `Block` as the input to its sucessor, finally returning the output of the last `Block`. \n",
    "\n",
    "Once we've defined a composite `Block` via `Sequential`, we can treat in turn, string these composite `Block`s together to build even more elaborate structures."
   ]
  },
  {
   "cell_type": "markdown",
   "metadata": {
    "slideshow": {
     "slide_type": "skip"
    }
   },
   "source": [
    "The following code implements a famous network called LeNet through nn.Sequential."
   ]
  },
  {
   "cell_type": "code",
   "execution_count": 2,
   "metadata": {
    "ExecuteTime": {
     "end_time": "2019-07-26T22:46:08.123699Z",
     "start_time": "2019-07-26T22:46:08.120250Z"
    },
    "collapsed": true,
    "slideshow": {
     "slide_type": "fragment"
    }
   },
   "outputs": [],
   "source": [
    "lenet = nn.Sequential()"
   ]
  },
  {
   "cell_type": "code",
   "execution_count": 3,
   "metadata": {
    "ExecuteTime": {
     "end_time": "2019-07-26T22:46:08.133064Z",
     "start_time": "2019-07-26T22:46:08.125861Z"
    },
    "collapsed": true,
    "slideshow": {
     "slide_type": "fragment"
    }
   },
   "outputs": [],
   "source": [
    "lenet.add(\n",
    "    nn.Conv2D(channels=6, kernel_size=5, activation='relu'),\n",
    "    nn.MaxPool2D(pool_size=2, strides=2),\n",
    "    nn.Conv2D(channels=16, kernel_size=3, activation='relu'),\n",
    "    nn.MaxPool2D(pool_size=2, strides=2),\n",
    "    nn.Flatten(),\n",
    "    nn.Dense(120, activation=\"relu\"),\n",
    "    nn.Dense(84, activation=\"relu\"),\n",
    "    nn.Dense(10))"
   ]
  },
  {
   "cell_type": "code",
   "execution_count": 4,
   "metadata": {
    "ExecuteTime": {
     "end_time": "2019-07-26T22:46:08.140246Z",
     "start_time": "2019-07-26T22:46:08.134946Z"
    },
    "scrolled": true,
    "slideshow": {
     "slide_type": "fragment"
    }
   },
   "outputs": [
    {
     "data": {
      "text/plain": [
       "Sequential(\n",
       "  (0): Conv2D(None -> 6, kernel_size=(5, 5), stride=(1, 1), Activation(relu))\n",
       "  (1): MaxPool2D(size=(2, 2), stride=(2, 2), padding=(0, 0), ceil_mode=False, global_pool=False, pool_type=max, layout=NCHW)\n",
       "  (2): Conv2D(None -> 16, kernel_size=(3, 3), stride=(1, 1), Activation(relu))\n",
       "  (3): MaxPool2D(size=(2, 2), stride=(2, 2), padding=(0, 0), ceil_mode=False, global_pool=False, pool_type=max, layout=NCHW)\n",
       "  (4): Flatten\n",
       "  (5): Dense(None -> 120, Activation(relu))\n",
       "  (6): Dense(None -> 84, Activation(relu))\n",
       "  (7): Dense(None -> 10, linear)\n",
       ")"
      ]
     },
     "execution_count": 4,
     "metadata": {},
     "output_type": "execute_result"
    }
   ],
   "source": [
    "lenet"
   ]
  },
  {
   "cell_type": "markdown",
   "metadata": {
    "slideshow": {
     "slide_type": "slide"
    }
   },
   "source": [
    "## `HybridBlock` (Just-in-time compilation)"
   ]
  },
  {
   "cell_type": "markdown",
   "metadata": {
    "slideshow": {
     "slide_type": "fragment"
    }
   },
   "source": [
    "1. `gluon`: easy to program with native Python structures\n",
    "1. overhead: context switching between Python and MXNet backend\n",
    "1. hybridize: Just in time compilation "
   ]
  },
  {
   "cell_type": "markdown",
   "metadata": {
    "slideshow": {
     "slide_type": "skip"
    }
   },
   "source": [
    "`gluon` makes it easy to program with native Python structures, with nice benefits like making it easy to debug, all the context switching between Python and MXNet's low-level scheduler does come with some overhead. Once you're settled in your model and want to speed it up, Gluon's `HybridBlock`s help you to double the speed of your model by compiling the model, cutting down on context switiching and applying a number of intelligent optimizations to eliminate redundant computation and use memory efficiently."
   ]
  },
  {
   "cell_type": "markdown",
   "metadata": {
    "slideshow": {
     "slide_type": "skip"
    }
   },
   "source": [
    "Hybridizing is very easy. Every Block provides a `.hybridize()` method which will hybridize the Block itself if possible or calls `.hybridize()` on all the `Block`s it is composed of."
   ]
  },
  {
   "cell_type": "code",
   "execution_count": 5,
   "metadata": {
    "ExecuteTime": {
     "end_time": "2019-07-26T22:46:08.147762Z",
     "start_time": "2019-07-26T22:46:08.143984Z"
    },
    "slideshow": {
     "slide_type": "fragment"
    }
   },
   "outputs": [
    {
     "name": "stderr",
     "output_type": "stream",
     "text": [
      "/home/ubuntu/miniconda3/lib/python3.6/site-packages/ipykernel_launcher.py:1: UserWarning: All children of this Sequential layer 'sequential0_' are HybridBlocks. Consider using HybridSequential for the best performance.\n",
      "  \"\"\"Entry point for launching an IPython kernel.\n"
     ]
    }
   ],
   "source": [
    "lenet.hybridize(static_alloc=True, static_shape=True)"
   ]
  },
  {
   "cell_type": "markdown",
   "metadata": {
    "slideshow": {
     "slide_type": "fragment"
    }
   },
   "source": [
    "``` python\n",
    "class HybridNet(gluon.HybridBlock):\n",
    "    def forward(self, F, x):\n",
    "        # Computation based on other `HybridBlock`\n",
    "```"
   ]
  },
  {
   "cell_type": "code",
   "execution_count": 6,
   "metadata": {
    "ExecuteTime": {
     "end_time": "2019-07-26T22:46:08.157730Z",
     "start_time": "2019-07-26T22:46:08.149859Z"
    },
    "collapsed": true,
    "slideshow": {
     "slide_type": "subslide"
    }
   },
   "outputs": [],
   "source": [
    "lenet = nn.HybridSequential()\n",
    "lenet.add(\n",
    "    nn.Conv2D(channels=6, kernel_size=5, activation='relu'),\n",
    "    nn.MaxPool2D(pool_size=2, strides=2),\n",
    "    nn.Conv2D(channels=16, kernel_size=3, activation='relu'),\n",
    "    nn.MaxPool2D(pool_size=2, strides=2),\n",
    "    nn.Flatten(),\n",
    "    nn.Dense(120, activation=\"relu\"),\n",
    "    nn.Dense(84, activation=\"relu\"),\n",
    "    nn.Dense(10))"
   ]
  },
  {
   "cell_type": "code",
   "execution_count": 7,
   "metadata": {
    "ExecuteTime": {
     "end_time": "2019-07-26T22:46:08.165758Z",
     "start_time": "2019-07-26T22:46:08.162875Z"
    },
    "collapsed": true,
    "slideshow": {
     "slide_type": "fragment"
    }
   },
   "outputs": [],
   "source": [
    "lenet.hybridize(static_alloc=True, static_shape=True)"
   ]
  },
  {
   "cell_type": "code",
   "execution_count": 8,
   "metadata": {
    "ExecuteTime": {
     "end_time": "2019-07-26T22:46:08.171973Z",
     "start_time": "2019-07-26T22:46:08.167656Z"
    },
    "slideshow": {
     "slide_type": "fragment"
    }
   },
   "outputs": [
    {
     "data": {
      "text/plain": [
       "HybridSequential(\n",
       "  (0): Conv2D(None -> 6, kernel_size=(5, 5), stride=(1, 1), Activation(relu))\n",
       "  (1): MaxPool2D(size=(2, 2), stride=(2, 2), padding=(0, 0), ceil_mode=False, global_pool=False, pool_type=max, layout=NCHW)\n",
       "  (2): Conv2D(None -> 16, kernel_size=(3, 3), stride=(1, 1), Activation(relu))\n",
       "  (3): MaxPool2D(size=(2, 2), stride=(2, 2), padding=(0, 0), ceil_mode=False, global_pool=False, pool_type=max, layout=NCHW)\n",
       "  (4): Flatten\n",
       "  (5): Dense(None -> 120, Activation(relu))\n",
       "  (6): Dense(None -> 84, Activation(relu))\n",
       "  (7): Dense(None -> 10, linear)\n",
       ")"
      ]
     },
     "execution_count": 8,
     "metadata": {},
     "output_type": "execute_result"
    }
   ],
   "source": [
    "lenet"
   ]
  },
  {
   "cell_type": "markdown",
   "metadata": {
    "slideshow": {
     "slide_type": "slide"
    }
   },
   "source": [
    "### Initialization"
   ]
  },
  {
   "cell_type": "code",
   "execution_count": 9,
   "metadata": {
    "ExecuteTime": {
     "end_time": "2019-07-26T22:46:09.154314Z",
     "start_time": "2019-07-26T22:46:08.173963Z"
    },
    "slideshow": {
     "slide_type": "fragment"
    }
   },
   "outputs": [
    {
     "data": {
      "text/plain": [
       "(4, 10)"
      ]
     },
     "execution_count": 9,
     "metadata": {},
     "output_type": "execute_result"
    }
   ],
   "source": [
    "lenet.initialize(ctx=ctx)\n",
    "# Input shape is (batch_size, color_channels, height, width)\n",
    "x = nd.random.uniform(shape=(4,1,28,28), ctx=ctx)\n",
    "y = lenet(x)\n",
    "y.shape"
   ]
  },
  {
   "cell_type": "code",
   "execution_count": 10,
   "metadata": {
    "ExecuteTime": {
     "end_time": "2019-07-26T22:46:09.160753Z",
     "start_time": "2019-07-26T22:46:09.156474Z"
    }
   },
   "outputs": [
    {
     "data": {
      "text/plain": [
       "HybridSequential(\n",
       "  (0): Conv2D(1 -> 6, kernel_size=(5, 5), stride=(1, 1), Activation(relu))\n",
       "  (1): MaxPool2D(size=(2, 2), stride=(2, 2), padding=(0, 0), ceil_mode=False, global_pool=False, pool_type=max, layout=NCHW)\n",
       "  (2): Conv2D(6 -> 16, kernel_size=(3, 3), stride=(1, 1), Activation(relu))\n",
       "  (3): MaxPool2D(size=(2, 2), stride=(2, 2), padding=(0, 0), ceil_mode=False, global_pool=False, pool_type=max, layout=NCHW)\n",
       "  (4): Flatten\n",
       "  (5): Dense(400 -> 120, Activation(relu))\n",
       "  (6): Dense(120 -> 84, Activation(relu))\n",
       "  (7): Dense(84 -> 10, linear)\n",
       ")"
      ]
     },
     "execution_count": 10,
     "metadata": {},
     "output_type": "execute_result"
    }
   ],
   "source": [
    "lenet"
   ]
  },
  {
   "cell_type": "markdown",
   "metadata": {
    "slideshow": {
     "slide_type": "slide"
    }
   },
   "source": [
    "### MNIST"
   ]
  },
  {
   "cell_type": "code",
   "execution_count": 11,
   "metadata": {
    "ExecuteTime": {
     "end_time": "2019-07-26T22:46:09.171950Z",
     "start_time": "2019-07-26T22:46:09.162859Z"
    },
    "collapsed": true,
    "slideshow": {
     "slide_type": "fragment"
    }
   },
   "outputs": [],
   "source": [
    "def normalize_and_copy(dataset, ctx):\n",
    "    data = mx.nd.array(dataset._data, ctx=ctx) \\\n",
    "                .transpose((0, 3, 1, 2)) \\\n",
    "                .astype(np.float32)/255\n",
    "    label = dataset._label\n",
    "    output = gluon.data.ArrayDataset(data, label)\n",
    "    output._data[1] = mx.nd.array(label, ctx=ctx)\n",
    "    return output"
   ]
  },
  {
   "cell_type": "code",
   "execution_count": 12,
   "metadata": {
    "ExecuteTime": {
     "end_time": "2019-07-26T22:46:09.799291Z",
     "start_time": "2019-07-26T22:46:09.173934Z"
    },
    "collapsed": true,
    "slideshow": {
     "slide_type": "fragment"
    }
   },
   "outputs": [],
   "source": [
    "train_data = normalize_and_copy(gluon.data.vision.MNIST(train=True), ctx)\n",
    "test_data = normalize_and_copy(gluon.data.vision.MNIST(train=False), ctx)"
   ]
  },
  {
   "cell_type": "code",
   "execution_count": 13,
   "metadata": {
    "ExecuteTime": {
     "end_time": "2019-07-26T22:46:09.804701Z",
     "start_time": "2019-07-26T22:46:09.801026Z"
    },
    "collapsed": true,
    "slideshow": {
     "slide_type": "fragment"
    }
   },
   "outputs": [],
   "source": [
    "batch_size = 64\n",
    "\n",
    "train_batches = mx.gluon.data.DataLoader(train_data, batch_size, shuffle=True)\n",
    "test_batches = mx.gluon.data.DataLoader(test_data, batch_size, shuffle=False)"
   ]
  },
  {
   "cell_type": "code",
   "execution_count": 14,
   "metadata": {
    "ExecuteTime": {
     "end_time": "2019-07-26T22:46:09.810008Z",
     "start_time": "2019-07-26T22:46:09.806366Z"
    },
    "collapsed": true,
    "slideshow": {
     "slide_type": "fragment"
    }
   },
   "outputs": [],
   "source": [
    "softmax_cross_entropy = gluon.loss.SoftmaxCrossEntropyLoss()\n",
    "trainer = gluon.Trainer(lenet.collect_params(), 'sgd', {'learning_rate': .02})"
   ]
  },
  {
   "cell_type": "markdown",
   "metadata": {
    "slideshow": {
     "slide_type": "slide"
    }
   },
   "source": [
    "### Evaluation"
   ]
  },
  {
   "cell_type": "code",
   "execution_count": 15,
   "metadata": {
    "ExecuteTime": {
     "end_time": "2019-07-26T22:46:09.817252Z",
     "start_time": "2019-07-26T22:46:09.811837Z"
    },
    "collapsed": true,
    "slideshow": {
     "slide_type": "fragment"
    }
   },
   "outputs": [],
   "source": [
    "def evaluate_accuracy(data_iterator, net):\n",
    "    acc = mx.metric.Accuracy()\n",
    "    for i, (data, label) in enumerate(data_iterator):\n",
    "        prediction = net(data).argmax(axis=-1, keepdims=True)\n",
    "        acc.update(preds=prediction, labels=label)\n",
    "    return acc.get()[1]"
   ]
  },
  {
   "cell_type": "markdown",
   "metadata": {
    "slideshow": {
     "slide_type": "subslide"
    }
   },
   "source": [
    "### Training"
   ]
  },
  {
   "cell_type": "code",
   "execution_count": 16,
   "metadata": {
    "ExecuteTime": {
     "end_time": "2019-07-26T22:46:09.822470Z",
     "start_time": "2019-07-26T22:46:09.818973Z"
    },
    "collapsed": true
   },
   "outputs": [],
   "source": [
    "epochs = 10"
   ]
  },
  {
   "cell_type": "code",
   "execution_count": 17,
   "metadata": {
    "ExecuteTime": {
     "end_time": "2019-07-26T22:47:46.394603Z",
     "start_time": "2019-07-26T22:46:09.824197Z"
    },
    "slideshow": {
     "slide_type": "fragment"
    }
   },
   "outputs": [
    {
     "name": "stdout",
     "output_type": "stream",
     "text": [
      "Epoch 0. Loss: 2.2992, Train_acc 0.1208, Test_acc 0.1233\n",
      "Epoch 1. Loss: 1.3242, Train_acc 0.8278, Test_acc 0.8417\n",
      "Epoch 2. Loss: 0.3178, Train_acc 0.9305, Test_acc 0.9337\n",
      "Epoch 3. Loss: 0.1895, Train_acc 0.9502, Test_acc 0.9516\n",
      "Epoch 4. Loss: 0.1386, Train_acc 0.9573, Test_acc 0.9580\n",
      "Epoch 5. Loss: 0.1111, Train_acc 0.9627, Test_acc 0.9634\n",
      "Epoch 6. Loss: 0.0947, Train_acc 0.9746, Test_acc 0.9709\n",
      "Epoch 7. Loss: 0.0833, Train_acc 0.9790, Test_acc 0.9775\n",
      "Epoch 8. Loss: 0.0740, Train_acc 0.9792, Test_acc 0.9769\n",
      "Epoch 9. Loss: 0.0678, Train_acc 0.9786, Test_acc 0.9774\n"
     ]
    }
   ],
   "source": [
    "for e in range(epochs):\n",
    "    cumulative_loss = 0\n",
    "    for i, (data, label) in enumerate(train_batches):\n",
    "        with autograd.record():\n",
    "            output = lenet(data)\n",
    "            loss = softmax_cross_entropy(output, label)\n",
    "        loss.backward()\n",
    "        trainer.step(data.shape[0])\n",
    "        cumulative_loss += nd.sum(loss)\n",
    "\n",
    "    train_accuracy = evaluate_accuracy(train_batches, lenet)\n",
    "    test_accuracy = evaluate_accuracy(test_batches, lenet)\n",
    "    print(\"Epoch %s. Loss: %.4f, Train_acc %.4f, Test_acc %.4f\" %\n",
    "          (e, cumulative_loss.asscalar()/len(train_data), train_accuracy, test_accuracy))"
   ]
  },
  {
   "cell_type": "markdown",
   "metadata": {
    "slideshow": {
     "slide_type": "slide"
    }
   },
   "source": [
    "## Recurrent Neural Network\n",
    "\n",
    "<img src=\"../img/rnn_unfold.png\">"
   ]
  },
  {
   "cell_type": "code",
   "execution_count": 18,
   "metadata": {
    "ExecuteTime": {
     "end_time": "2019-07-26T22:47:46.564943Z",
     "start_time": "2019-07-26T22:47:46.396371Z"
    },
    "slideshow": {
     "slide_type": "fragment"
    }
   },
   "outputs": [
    {
     "data": {
      "text/plain": [
       "[<matplotlib.lines.Line2D at 0x7f77ccb18be0>,\n",
       " <matplotlib.lines.Line2D at 0x7f77ccb18e48>,\n",
       " <matplotlib.lines.Line2D at 0x7f77ccb18f98>]"
      ]
     },
     "execution_count": 18,
     "metadata": {},
     "output_type": "execute_result"
    },
    {
     "data": {
      "image/png": "[encoded data removed]",
      "text/plain": [
       "<Figure size 432x288 with 1 Axes>"
      ]
     },
     "metadata": {},
     "output_type": "display_data"
    }
   ],
   "source": [
    "def generate_sine_data(batch_size, start, stop, step):\n",
    "    phase = mx.random.uniform(-np.pi*2, np.pi*2, shape=(1, batch_size))\n",
    "    x = (mx.nd.arange(start, stop, step).expand_dims(1) + phase)\n",
    "    return x.sin()\n",
    "x = generate_sine_data(3, 0, 5, 0.1)\n",
    "plt.plot(np.arange(0, 5, 0.1), x.asnumpy())"
   ]
  },
  {
   "cell_type": "code",
   "execution_count": 19,
   "metadata": {
    "ExecuteTime": {
     "end_time": "2019-07-26T22:47:46.600484Z",
     "start_time": "2019-07-26T22:47:46.567011Z"
    },
    "slideshow": {
     "slide_type": "fragment"
    }
   },
   "outputs": [
    {
     "name": "stdout",
     "output_type": "stream",
     "text": [
      "(50, 3, 1) (50, 3, 10)\n"
     ]
    }
   ],
   "source": [
    "cell = gluon.rnn.LSTMCell(10)\n",
    "cell.initialize()\n",
    "rnn_input = x.expand_dims(2)\n",
    "rnn_output, _ = cell.unroll(50, rnn_input, layout='TNC', merge_outputs=True)\n",
    "print(rnn_input.shape, rnn_output.shape)"
   ]
  },
  {
   "cell_type": "markdown",
   "metadata": {},
   "source": [
    "More details of [multilayer perceptrons](https://d2l.ai/chapter_multilayer-perceptrons/index.html), [convolutional neural networks](https://d2l.ai/chapter_convolutional-neural-networks/index.html) and [recurrent neural networks](https://d2l.ai/chapter_recurrent-neural-networks/index.html) are described in [Dive into Deep Learning](https://d2l.ai)."
   ]
  }
 ],
 "metadata": {
  "celltoolbar": "Slideshow",
  "kernelspec": {
   "display_name": "Python 3",
   "language": "python",
   "name": "python3"
  },
  "language_info": {
   "codemirror_mode": {
    "name": "ipython",
    "version": 3
   },
   "file_extension": ".py",
   "mimetype": "text/x-python",
   "name": "python",
   "nbconvert_exporter": "python",
   "pygments_lexer": "ipython3",
   "version": "3.6.4"
  },
  "rise": {
   "scroll": true
  }
 },
 "nbformat": 4,
 "nbformat_minor": 2
}
