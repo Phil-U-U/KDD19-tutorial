{
 "cells": [
  {
   "cell_type": "markdown",
   "metadata": {
    "slideshow": {
     "slide_type": "slide"
    }
   },
   "source": [
    "# Modeling in Gluon\n",
    "\n",
    "Key steps in training a deep network:\n",
    "\n",
    "1. Define network\n",
    "1. Initialize parameters\n",
    "1. Iterate over data\n",
    "  1. Forward pass (propagate input to generate output)\n",
    "  1. Compute loss (compare output to true labels)\n",
    "  1. Compute loss gradient via backpropagation\n",
    "  1. Update parameters by stochastic gradient descent"
   ]
  },
  {
   "cell_type": "markdown",
   "metadata": {
    "slideshow": {
     "slide_type": "slide"
    }
   },
   "source": [
    "Import modules and get device context"
   ]
  },
  {
   "cell_type": "code",
   "execution_count": 1,
   "metadata": {
    "ExecuteTime": {
     "end_time": "2019-07-30T15:40:05.312169Z",
     "start_time": "2019-07-30T15:40:04.064267Z"
    },
    "slideshow": {
     "slide_type": "-"
    }
   },
   "outputs": [
    {
     "name": "stdout",
     "output_type": "stream",
     "text": [
      "gpu(0)\n"
     ]
    }
   ],
   "source": [
    "import d2l\n",
    "import mxnet as mx\n",
    "from mxnet import nd, autograd, gluon\n",
    "\n",
    "# device context\n",
    "data_ctx = d2l.try_gpu()\n",
    "model_ctx = d2l.try_gpu()\n",
    "\n",
    "print(data_ctx)"
   ]
  },
  {
   "cell_type": "markdown",
   "metadata": {
    "slideshow": {
     "slide_type": "slide"
    }
   },
   "source": [
    "### Blocks in Gluon\n",
    "\n",
    "`gluon.Block` is the basic constituent for models (e.g. a layer is a block). \n",
    "\n",
    "```\n",
    "class Net(gluon.Block):\n",
    "    [...]  # __init__ allocates resources (more later)\n",
    "\n",
    "    # One or more NDArrays can be passed to `forward`\n",
    "    def forward(self, x):\n",
    "        # Computation\n",
    "        # Do something with your data x to compute y\n",
    "        return y\n",
    "```\n",
    "\n",
    "* Blocks hold parameters and functions\n",
    "* Blocks can be composed to larger blocks (e.g. `Dense` is a block)"
   ]
  },
  {
   "cell_type": "markdown",
   "metadata": {
    "slideshow": {
     "slide_type": "slide"
    }
   },
   "source": [
    "### A simple `Block`"
   ]
  },
  {
   "cell_type": "code",
   "execution_count": 2,
   "metadata": {
    "ExecuteTime": {
     "end_time": "2019-07-29T06:06:13.701481Z",
     "start_time": "2019-07-29T06:06:13.696960Z"
    },
    "slideshow": {
     "slide_type": "-"
    }
   },
   "outputs": [
    {
     "name": "stdout",
     "output_type": "stream",
     "text": [
      "Parameter dense0_weight (shape=(1, 2), dtype=float32)\n",
      "Parameter dense0_bias (shape=(1,), dtype=float32)\n"
     ]
    }
   ],
   "source": [
    "net = gluon.nn.Dense(1, in_units=2)  # 1 output, 2 inputs, no activation function\n",
    "print(net.weight)\n",
    "print(net.bias)"
   ]
  },
  {
   "cell_type": "markdown",
   "metadata": {
    "slideshow": {
     "slide_type": "-"
    }
   },
   "source": [
    "The `Dense` block contains all relevant parameters. We can get them automatically. "
   ]
  },
  {
   "cell_type": "code",
   "execution_count": 3,
   "metadata": {
    "ExecuteTime": {
     "end_time": "2019-07-29T06:06:13.710244Z",
     "start_time": "2019-07-29T06:06:13.703789Z"
    },
    "slideshow": {
     "slide_type": "-"
    }
   },
   "outputs": [
    {
     "data": {
      "text/plain": [
       "dense0_ (\n",
       "  Parameter dense0_weight (shape=(1, 2), dtype=float32)\n",
       "  Parameter dense0_bias (shape=(1,), dtype=float32)\n",
       ")"
      ]
     },
     "execution_count": 3,
     "metadata": {},
     "output_type": "execute_result"
    }
   ],
   "source": [
    "net.collect_params()"
   ]
  },
  {
   "cell_type": "markdown",
   "metadata": {
    "slideshow": {
     "slide_type": "slide"
    }
   },
   "source": [
    "### Manipulating Parameters\n",
    "\n",
    "The returned object is a `gluon.parameter.ParameterDict`. "
   ]
  },
  {
   "cell_type": "code",
   "execution_count": 4,
   "metadata": {
    "ExecuteTime": {
     "end_time": "2019-07-29T06:06:13.715580Z",
     "start_time": "2019-07-29T06:06:13.712133Z"
    },
    "slideshow": {
     "slide_type": "-"
    }
   },
   "outputs": [
    {
     "data": {
      "text/plain": [
       "mxnet.gluon.parameter.ParameterDict"
      ]
     },
     "execution_count": 4,
     "metadata": {},
     "output_type": "execute_result"
    }
   ],
   "source": [
    "type(net.collect_params())"
   ]
  },
  {
   "cell_type": "markdown",
   "metadata": {
    "slideshow": {
     "slide_type": "-"
    }
   },
   "source": [
    "Before using a network we need to initialize parameters. We need:\n",
    "\n",
    "* An initializer, many of which live in the `mx.init` module. \n",
    "* A device context where the parameters lives (CPU or GPU)."
   ]
  },
  {
   "cell_type": "code",
   "execution_count": 5,
   "metadata": {
    "ExecuteTime": {
     "end_time": "2019-07-29T06:06:13.722212Z",
     "start_time": "2019-07-29T06:06:13.717294Z"
    },
    "slideshow": {
     "slide_type": "-"
    }
   },
   "outputs": [],
   "source": [
    "net.collect_params().initialize(mx.initializer.Uniform(0.01), ctx=model_ctx)"
   ]
  },
  {
   "cell_type": "markdown",
   "metadata": {
    "slideshow": {
     "slide_type": "skip"
    }
   },
   "source": [
    "Now we can access the actual parameter value:"
   ]
  },
  {
   "cell_type": "code",
   "execution_count": 6,
   "metadata": {
    "ExecuteTime": {
     "end_time": "2019-07-29T06:06:13.733858Z",
     "start_time": "2019-07-29T06:06:13.724169Z"
    },
    "slideshow": {
     "slide_type": "skip"
    }
   },
   "outputs": [
    {
     "name": "stdout",
     "output_type": "stream",
     "text": [
      "\n",
      "[[0.00097627 0.00185689]]\n",
      "<NDArray 1x2 @gpu(0)>\n",
      "\n",
      "[0.]\n",
      "<NDArray 1 @gpu(0)>\n"
     ]
    }
   ],
   "source": [
    "print(net.weight.data())\n",
    "print(net.bias.data())"
   ]
  },
  {
   "cell_type": "markdown",
   "metadata": {
    "slideshow": {
     "slide_type": "slide"
    }
   },
   "source": [
    "### Optimization\n",
    "\n",
    "We need an objective (loss) and an optimization algorithm."
   ]
  },
  {
   "cell_type": "code",
   "execution_count": 7,
   "metadata": {
    "ExecuteTime": {
     "end_time": "2019-07-29T06:06:13.739253Z",
     "start_time": "2019-07-29T06:06:13.735638Z"
    },
    "slideshow": {
     "slide_type": "-"
    }
   },
   "outputs": [],
   "source": [
    "square_loss = gluon.loss.L2Loss()"
   ]
  },
  {
   "cell_type": "code",
   "execution_count": 8,
   "metadata": {
    "ExecuteTime": {
     "end_time": "2019-07-29T06:06:13.745296Z",
     "start_time": "2019-07-29T06:06:13.741765Z"
    },
    "slideshow": {
     "slide_type": "-"
    }
   },
   "outputs": [],
   "source": [
    "trainer = gluon.Trainer(net.collect_params(), 'sgd', {'learning_rate': 0.0001})"
   ]
  },
  {
   "cell_type": "markdown",
   "metadata": {
    "slideshow": {
     "slide_type": "slide"
    }
   },
   "source": [
    "### Data\n",
    "\n",
    "Let's generate some artificial data to train on."
   ]
  },
  {
   "cell_type": "code",
   "execution_count": 9,
   "metadata": {
    "ExecuteTime": {
     "end_time": "2019-07-29T06:06:13.750266Z",
     "start_time": "2019-07-29T06:06:13.747303Z"
    },
    "slideshow": {
     "slide_type": "-"
    }
   },
   "outputs": [],
   "source": [
    "num_inputs   = 2\n",
    "num_outputs  = 1\n",
    "num_examples = 10000\n",
    "noise_sigma  = 0.01"
   ]
  },
  {
   "cell_type": "code",
   "execution_count": 10,
   "metadata": {
    "ExecuteTime": {
     "end_time": "2019-07-29T06:06:13.756606Z",
     "start_time": "2019-07-29T06:06:13.751793Z"
    },
    "slideshow": {
     "slide_type": "-"
    }
   },
   "outputs": [],
   "source": [
    "X = nd.random_normal(shape=(num_examples, num_inputs))\n",
    "\n",
    "def real_fn(X):\n",
    "    return 2 * X[:, 0] - 3.4 * X[:, 1] + 4.2\n",
    "y = real_fn(X) + noise_sigma * nd.random_normal(shape=(num_examples, ))"
   ]
  },
  {
   "cell_type": "code",
   "execution_count": 11,
   "metadata": {
    "ExecuteTime": {
     "end_time": "2019-07-29T06:06:13.761316Z",
     "start_time": "2019-07-29T06:06:13.757786Z"
    },
    "slideshow": {
     "slide_type": "slide"
    }
   },
   "outputs": [
    {
     "name": "stdout",
     "output_type": "stream",
     "text": [
      "\n",
      "[[ 0.7740038   1.0434405 ]\n",
      " [ 1.1839255   1.8917114 ]\n",
      " [-1.2347414  -1.771029  ]\n",
      " ...\n",
      " [ 0.08873925 -0.45150325]\n",
      " [-0.13049959  0.15614532]\n",
      " [-0.22753173 -0.19928493]]\n",
      "<NDArray 10000x2 @cpu(0)>\n"
     ]
    }
   ],
   "source": [
    "print(X)"
   ]
  },
  {
   "cell_type": "code",
   "execution_count": 12,
   "metadata": {
    "ExecuteTime": {
     "end_time": "2019-07-29T06:06:13.767102Z",
     "start_time": "2019-07-29T06:06:13.763281Z"
    },
    "slideshow": {
     "slide_type": "-"
    }
   },
   "outputs": [
    {
     "name": "stdout",
     "output_type": "stream",
     "text": [
      "\n",
      "[2.2110515  0.13669638 7.760503   ... 5.9032497  3.4229667  4.4221096 ]\n",
      "<NDArray 10000 @cpu(0)>\n"
     ]
    }
   ],
   "source": [
    "print(y)"
   ]
  },
  {
   "cell_type": "markdown",
   "metadata": {
    "slideshow": {
     "slide_type": "slide"
    }
   },
   "source": [
    "### Batching"
   ]
  },
  {
   "cell_type": "code",
   "execution_count": 13,
   "metadata": {
    "ExecuteTime": {
     "end_time": "2019-07-29T06:06:13.772505Z",
     "start_time": "2019-07-29T06:06:13.769310Z"
    },
    "slideshow": {
     "slide_type": "-"
    }
   },
   "outputs": [],
   "source": [
    "batch_size = 4\n",
    "train_data = gluon.data.DataLoader(\n",
    "    gluon.data.ArrayDataset(X, y), batch_size=batch_size, shuffle=True)"
   ]
  },
  {
   "cell_type": "markdown",
   "metadata": {
    "slideshow": {
     "slide_type": "-"
    }
   },
   "source": [
    "### Training loop setup"
   ]
  },
  {
   "cell_type": "code",
   "execution_count": 14,
   "metadata": {
    "ExecuteTime": {
     "end_time": "2019-07-29T06:06:13.777550Z",
     "start_time": "2019-07-29T06:06:13.774376Z"
    }
   },
   "outputs": [
    {
     "name": "stdout",
     "output_type": "stream",
     "text": [
      "2500.0\n"
     ]
    }
   ],
   "source": [
    "epochs = 10\n",
    "num_batches = num_examples / batch_size\n",
    "print(num_batches)"
   ]
  },
  {
   "cell_type": "code",
   "execution_count": 15,
   "metadata": {
    "ExecuteTime": {
     "end_time": "2019-07-29T06:06:13.784012Z",
     "start_time": "2019-07-29T06:06:13.779576Z"
    },
    "slideshow": {
     "slide_type": "slide"
    }
   },
   "outputs": [],
   "source": [
    "def train_loop(epochs):\n",
    "    for e in range(epochs):\n",
    "        cumulative_loss = 0\n",
    "        for i, (data, label) in enumerate(train_data):\n",
    "            data = data.as_in_context(model_ctx)\n",
    "            label = label.as_in_context(model_ctx)\n",
    "            with autograd.record():\n",
    "                output = net(data)\n",
    "                loss = square_loss(output, label)\n",
    "            loss.backward()\n",
    "            trainer.step(batch_size)\n",
    "            cumulative_loss += nd.mean(loss).asscalar()\n",
    "        print(\"Epoch %s, loss: %.4f\" % (e, cumulative_loss / num_examples))"
   ]
  },
  {
   "cell_type": "code",
   "execution_count": 16,
   "metadata": {
    "ExecuteTime": {
     "end_time": "2019-07-29T06:06:34.714977Z",
     "start_time": "2019-07-29T06:06:13.785486Z"
    }
   },
   "outputs": [
    {
     "name": "stdout",
     "output_type": "stream",
     "text": [
      "Epoch 0, loss: 3.2707\n",
      "Epoch 1, loss: 1.9822\n",
      "Epoch 2, loss: 1.2014\n",
      "Epoch 3, loss: 0.7281\n",
      "Epoch 4, loss: 0.4413\n",
      "Epoch 5, loss: 0.2675\n",
      "Epoch 6, loss: 0.1621\n",
      "Epoch 7, loss: 0.0983\n",
      "Epoch 8, loss: 0.0596\n",
      "Epoch 9, loss: 0.0361\n"
     ]
    }
   ],
   "source": [
    "train_loop(epochs)"
   ]
  },
  {
   "cell_type": "markdown",
   "metadata": {
    "slideshow": {
     "slide_type": "slide"
    }
   },
   "source": [
    "## Getting the learned model parameters"
   ]
  },
  {
   "cell_type": "code",
   "execution_count": 17,
   "metadata": {
    "ExecuteTime": {
     "end_time": "2019-07-29T06:06:34.720033Z",
     "start_time": "2019-07-29T06:06:34.716275Z"
    },
    "slideshow": {
     "slide_type": "-"
    }
   },
   "outputs": [
    {
     "name": "stdout",
     "output_type": "stream",
     "text": [
      "dense0_weight \n",
      "[[ 1.845069  -3.1170497]]\n",
      "<NDArray 1x2 @gpu(0)>\n",
      "dense0_bias \n",
      "[3.85613]\n",
      "<NDArray 1 @gpu(0)>\n"
     ]
    }
   ],
   "source": [
    "params = net.collect_params() # this returns a ParameterDict\n",
    "for param in params.values():\n",
    "    print(param.name,param.data())"
   ]
  }
 ],
 "metadata": {
  "celltoolbar": "Slideshow",
  "kernelspec": {
   "display_name": "Python 3",
   "language": "python",
   "name": "python3"
  },
  "language_info": {
   "codemirror_mode": {
    "name": "ipython",
    "version": 3
   },
   "file_extension": ".py",
   "mimetype": "text/x-python",
   "name": "python",
   "nbconvert_exporter": "python",
   "pygments_lexer": "ipython3",
   "version": "3.6.8"
  },
  "rise": {
   "scroll": true
  },
  "widgets": {
   "state": {},
   "version": "1.1.2"
  }
 },
 "nbformat": 4,
 "nbformat_minor": 2
}
