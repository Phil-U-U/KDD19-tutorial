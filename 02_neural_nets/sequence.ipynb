{
 "cells": [
  {
   "cell_type": "markdown",
   "metadata": {
    "slideshow": {
     "slide_type": "slide"
    }
   },
   "source": [
    "### Autoregressive Models"
   ]
  },
  {
   "cell_type": "code",
   "execution_count": null,
   "metadata": {
    "ExecuteTime": {
     "end_time": "2019-07-30T04:53:13.050758Z",
     "start_time": "2019-07-30T04:53:11.726675Z"
    },
    "slideshow": {
     "slide_type": "-"
    }
   },
   "outputs": [],
   "source": [
    "from mxnet import autograd, nd, gluon, init\n",
    "import d2l\n",
    "# display routines\n",
    "%matplotlib inline\n",
    "from matplotlib import pyplot as plt\n",
    "from IPython import display\n",
    "display.set_matplotlib_formats('svg')\n",
    "\n",
    "embedding = 4 # embedding dimension for autoregressive model\n",
    "T = 1000      # generate a total of 1000 points \n",
    "time = nd.arange(0,T)\n",
    "x = nd.sin(0.01 * time) + 0.2 * nd.random.normal(shape=(T))"
   ]
  },
  {
   "cell_type": "code",
   "execution_count": null,
   "metadata": {
    "ExecuteTime": {
     "end_time": "2019-07-30T04:53:15.230065Z",
     "start_time": "2019-07-30T04:53:15.113541Z"
    },
    "slideshow": {
     "slide_type": "slide"
    }
   },
   "outputs": [],
   "source": [
    "plt.plot(time.asnumpy(), x.asnumpy());"
   ]
  },
  {
   "cell_type": "markdown",
   "metadata": {
    "slideshow": {
     "slide_type": "slide"
    }
   },
   "source": [
    "### Generating the Regression Dataset"
   ]
  },
  {
   "cell_type": "code",
   "execution_count": null,
   "metadata": {
    "ExecuteTime": {
     "end_time": "2019-07-30T04:53:17.460300Z",
     "start_time": "2019-07-30T04:53:17.421817Z"
    }
   },
   "outputs": [],
   "source": [
    "features = nd.zeros((T-embedding, embedding))\n",
    "for i in range(embedding):\n",
    "    features[:,i] = x[i:T-embedding+i]\n",
    "labels = x[embedding:]\n",
    "\n",
    "ntrain = 600\n",
    "train_data = gluon.data.ArrayDataset(features[:ntrain,:], labels[:ntrain])\n",
    "test_data  = gluon.data.ArrayDataset(features[ntrain:,:], labels[ntrain:])\n",
    "\n",
    "def get_net():\n",
    "    net = gluon.nn.Sequential()\n",
    "    net.add(gluon.nn.Dense(10, activation='relu'))\n",
    "    net.add(gluon.nn.Dense(10, activation='relu'))\n",
    "    net.add(gluon.nn.Dense(1))\n",
    "    net.initialize(init.Xavier())\n",
    "    return net\n",
    "\n",
    "loss = gluon.loss.L2Loss()"
   ]
  },
  {
   "cell_type": "markdown",
   "metadata": {
    "slideshow": {
     "slide_type": "slide"
    }
   },
   "source": [
    "### Training"
   ]
  },
  {
   "cell_type": "code",
   "execution_count": null,
   "metadata": {
    "ExecuteTime": {
     "end_time": "2019-07-30T04:53:23.308054Z",
     "start_time": "2019-07-30T04:53:23.303059Z"
    }
   },
   "outputs": [],
   "source": [
    "# simple optimizer using adam, random shuffle and minibatch size 16\n",
    "def train_net(net, data, loss, epochs, learningrate):\n",
    "    batch_size = 16\n",
    "    trainer = gluon.Trainer(net.collect_params(), 'adam', {'learning_rate': learningrate})\n",
    "    data_iter = gluon.data.DataLoader(data, batch_size, shuffle=True)\n",
    "    for epoch in range(1, epochs + 1):\n",
    "        for X, y in data_iter:\n",
    "            with autograd.record():\n",
    "                l = loss(net(X), y)\n",
    "            l.backward()\n",
    "            trainer.step(batch_size)\n",
    "        l = loss(net(data[:][0]), nd.array(data[:][1]))\n",
    "        print('epoch %d, loss: %f' % (epoch, l.mean().asnumpy()))\n",
    "    return net"
   ]
  },
  {
   "cell_type": "code",
   "execution_count": null,
   "metadata": {
    "ExecuteTime": {
     "end_time": "2019-07-30T04:53:27.178217Z",
     "start_time": "2019-07-30T04:53:26.630244Z"
    },
    "slideshow": {
     "slide_type": "slide"
    }
   },
   "outputs": [],
   "source": [
    "net = get_net()\n",
    "net = train_net(net, train_data, loss, 10, 0.01)\n",
    "\n",
    "l = loss(net(test_data[:][0]), nd.array(test_data[:][1]))\n",
    "print('test loss: %f' % l.mean().asnumpy())"
   ]
  },
  {
   "cell_type": "markdown",
   "metadata": {
    "slideshow": {
     "slide_type": "slide"
    }
   },
   "source": [
    "### Results"
   ]
  },
  {
   "cell_type": "code",
   "execution_count": null,
   "metadata": {
    "ExecuteTime": {
     "end_time": "2019-07-30T04:53:29.718112Z",
     "start_time": "2019-07-30T04:53:29.597778Z"
    }
   },
   "outputs": [],
   "source": [
    "estimates = net(features)\n",
    "plt.plot(time.asnumpy(), x.asnumpy(), label='data');\n",
    "plt.plot(time[embedding:].asnumpy(), estimates.asnumpy(), label='estimate');\n",
    "plt.legend();"
   ]
  },
  {
   "cell_type": "markdown",
   "metadata": {
    "slideshow": {
     "slide_type": "slide"
    }
   },
   "source": [
    "## Predictions for more than 1 step"
   ]
  },
  {
   "cell_type": "code",
   "execution_count": null,
   "metadata": {
    "ExecuteTime": {
     "end_time": "2019-07-30T04:53:33.026022Z",
     "start_time": "2019-07-30T04:53:32.744542Z"
    }
   },
   "outputs": [],
   "source": [
    "predictions = nd.zeros_like(estimates)\n",
    "predictions[:(ntrain-embedding)] = estimates[:(ntrain-embedding)]\n",
    "for i in range(ntrain-embedding, T-embedding):\n",
    "    predictions[i] = net(predictions[(i-embedding):i].reshape(1,-1)).reshape(1)\n",
    "    \n",
    "plt.plot(time.asnumpy(), x.asnumpy(), label='data');\n",
    "plt.plot(time[embedding:].asnumpy(), estimates.asnumpy(), label='estimate');\n",
    "plt.plot(time[embedding:].asnumpy(), predictions.asnumpy(), label='multistep');\n",
    "plt.legend();"
   ]
  },
  {
   "cell_type": "code",
   "execution_count": null,
   "metadata": {
    "ExecuteTime": {
     "end_time": "2019-07-30T04:53:36.076124Z",
     "start_time": "2019-07-30T04:53:35.935228Z"
    },
    "slideshow": {
     "slide_type": "slide"
    }
   },
   "outputs": [],
   "source": [
    "k = 33 # look up to k - embedding steps ahead\n",
    "features = nd.zeros((T-k, k))\n",
    "for i in range(embedding):\n",
    "    features[:,i] = x[i:T-k+i]\n",
    "for i in range(embedding, k):\n",
    "    features[:,i] = net(features[:,(i-embedding):i]).reshape((-1))\n",
    "for i in (4, 8, 16, 32):   \n",
    "    plt.plot(time[i:T-k+i].asnumpy(), features[:,i].asnumpy(), label=('step ' + str(i)))\n",
    "plt.legend();"
   ]
  }
 ],
 "metadata": {
  "celltoolbar": "Slideshow",
  "kernelspec": {
   "display_name": "Python 3",
   "language": "python",
   "name": "python3"
  },
  "language_info": {
   "codemirror_mode": {
    "name": "ipython",
    "version": 3
   },
   "file_extension": ".py",
   "mimetype": "text/x-python",
   "name": "python",
   "nbconvert_exporter": "python",
   "pygments_lexer": "ipython3",
   "version": "3.7.3"
  }
 },
 "nbformat": 4,
 "nbformat_minor": 2
}
