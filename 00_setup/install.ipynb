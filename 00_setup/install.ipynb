{
 "cells": [
  {
   "cell_type": "markdown",
   "metadata": {},
   "source": [
    "# Installing and Running Locally\n",
    "\n",
    "To get you up and running with hands-on experiences, we'll need you to set up with a Python environment, Jupyter's interactive notebooks, the relevant libraries, and the code needed to run the notebooks in this tutorial.\n",
    "\n",
    "## Installing Miniconda\n",
    "\n",
    "To simplify the installation, we need to install [Miniconda](https://conda.io/en/latest/miniconda.html). Restart the command line tool after installation."
   ]
  },
  {
   "cell_type": "markdown",
   "metadata": {},
   "source": [
    "Then create the conda \"d2l\" environment."
   ]
  },
  {
   "cell_type": "code",
   "execution_count": null,
   "metadata": {
    "collapsed": true
   },
   "outputs": [],
   "source": [
    "conda create --name d2l"
   ]
  },
  {
   "cell_type": "markdown",
   "metadata": {},
   "source": [
    "## Downloading the Tutorial Notebooks\n",
    "\n",
    "Now, let us download the code for this tutorial."
   ]
  },
  {
   "cell_type": "code",
   "execution_count": null,
   "metadata": {
    "collapsed": true
   },
   "outputs": [],
   "source": [
    "sudo apt-get install unzip\n",
    "wget https://github.com/astonzhang/KDD19-tutorial/archive/master.zip\n",
    "unzip master.zip && rm master.zip\n",
    "cd KDD19-tutorial-master"
   ]
  },
  {
   "cell_type": "markdown",
   "metadata": {},
   "source": [
    "Within the \"d2l\" environment, activate it and install `pip`. Enter `y` for the following inquiries."
   ]
  },
  {
   "cell_type": "code",
   "execution_count": null,
   "metadata": {
    "collapsed": true
   },
   "outputs": [],
   "source": [
    "conda activate d2l\n",
    "conda install pip"
   ]
  },
  {
   "cell_type": "markdown",
   "metadata": {},
   "source": [
    "Finally, install \"d2l\" package within the environment \"d2l\" that we created."
   ]
  },
  {
   "cell_type": "code",
   "execution_count": null,
   "metadata": {
    "collapsed": true
   },
   "outputs": [],
   "source": [
    "pip install d2l==0.10"
   ]
  },
  {
   "cell_type": "markdown",
   "metadata": {},
   "source": [
    "If unfortunately something went wrong, please check\n",
    "\n",
    "1. You are using `pip` for Python 3 instead of Python 2 by checking `pip --version`. If it's Python 2, then you may check if there is a `pip3` available.\n",
    "2. You are using a recent `pip`, such as version 19. Otherwise you can upgrade it through `pip install --upgrade pip`\n",
    "3. If you don't have permission to install package in system wide, you can install to your home directory by adding a `--user` flag. Such as `pip install d2l --user`\n",
    "\n",
    "\n",
    "## Installing MXNet and GluonNLP\n",
    "\n",
    "Before installing MXnet, please first check if you are able to access GPUs. If so, please go to \"GPU Support\" for instructions to install a GPU-supported MXnet. Otherwise, you can install the CPU version, which is still good enough for the first few notebooks."
   ]
  },
  {
   "cell_type": "code",
   "execution_count": null,
   "metadata": {
    "collapsed": true
   },
   "outputs": [],
   "source": [
    "pip install mxnet==1.5.0"
   ]
  },
  {
   "cell_type": "markdown",
   "metadata": {},
   "source": [
    "Now we install GluonNLP and other packages."
   ]
  },
  {
   "cell_type": "code",
   "execution_count": null,
   "metadata": {
    "collapsed": true
   },
   "outputs": [],
   "source": [
    "pip install gluonnlp==0.7.1\n",
    "pip install nltk\n",
    "pip install sacremoses"
   ]
  },
  {
   "cell_type": "markdown",
   "metadata": {},
   "source": [
    "Once both packages are installed, we now open the Jupyter notebook by"
   ]
  },
  {
   "cell_type": "code",
   "execution_count": null,
   "metadata": {
    "collapsed": true
   },
   "outputs": [],
   "source": [
    "jupyter notebook"
   ]
  },
  {
   "cell_type": "markdown",
   "metadata": {},
   "source": [
    "At this point open http://localhost:8888 (which usually opens automatically) in the browser, then we can view and run the code in each section of the book.\n",
    "\n",
    "## GPU Support\n",
    "\n",
    "By default MXNet is installed without GPU support to ensure that it will run on any computer (including most laptops). Part of this book requires or recommends running with GPU. If your computer has NVIDIA graphics cards and has installed [CUDA](https://developer.nvidia.com/cuda-downloads), you should install a GPU-enabled MXNet.\n",
    "\n",
    "If you have installed the CPU-only version, then remove it first by"
   ]
  },
  {
   "cell_type": "code",
   "execution_count": null,
   "metadata": {
    "collapsed": true
   },
   "outputs": [],
   "source": [
    "pip uninstall mxnet==1.5.0"
   ]
  },
  {
   "cell_type": "markdown",
   "metadata": {},
   "source": [
    "Then we need to find the CUDA version you installed. You may check it through `nvcc --version` or `cat /usr/local/cuda/version.txt`. Assume you have installed CUDA 10.0, then you can install the according MXNet version by"
   ]
  },
  {
   "cell_type": "code",
   "execution_count": null,
   "metadata": {
    "collapsed": true
   },
   "outputs": [],
   "source": [
    "pip install mxnet-cu100==1.5.0"
   ]
  },
  {
   "cell_type": "markdown",
   "metadata": {},
   "source": [
    "You may change the last digits according to your CUDA version, e.g. `cu101` for CUDA 10.1 and `cu90` for CUDA 9.0. You can find all available MXNet versions by `pip search mxnet`.\n",
    "\n",
    "For installation of MXNet on other platforms, please refer to http://mxnet.incubator.apache.org/versions/master/install/index.html."
   ]
  }
 ],
 "metadata": {
  "kernelspec": {
   "display_name": "Python 3",
   "language": "python",
   "name": "python3"
  },
  "language_info": {
   "codemirror_mode": {
    "name": "ipython",
    "version": 3
   },
   "file_extension": ".py",
   "mimetype": "text/x-python",
   "name": "python",
   "nbconvert_exporter": "python",
   "pygments_lexer": "ipython3",
   "version": "3.6.4"
  }
 },
 "nbformat": 4,
 "nbformat_minor": 2
}
