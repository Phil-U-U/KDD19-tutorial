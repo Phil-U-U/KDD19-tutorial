{
 "cells": [
  {
   "cell_type": "markdown",
   "metadata": {
    "slideshow": {
     "slide_type": "slide"
    }
   },
   "source": [
    "# Local Installation\n",
    "\n",
    "We use Conda and PIP for local installation on laptops, desktops or in the cloud. First set up a Conda environment and install support packages. \n",
    "\n",
    "### Miniconda\n",
    "\n",
    "Miniconda is anaconda without all the extra packages. If you haven't installed it yet, get it from [repo.continuum.io/miniconda/](https://repo.continuum.io/miniconda/). Next create an environment and install support libraries. "
   ]
  },
  {
   "cell_type": "code",
   "execution_count": null,
   "metadata": {},
   "outputs": [],
   "source": [
    "conda create --name d2l\n",
    "conda activate d2l\n",
    "conda install pip jupyter "
   ]
  },
  {
   "cell_type": "markdown",
   "metadata": {
    "slideshow": {
     "slide_type": "slide"
    }
   },
   "source": [
    "### PIP packages\n",
    "\n",
    "Installing PIP via Conda ensures that Conda can manage the packages that pip installed (or rather PIP and all of its byproducts). We need MXNet as the underlying framework. Depending on whether we have a GPU with CUDA 10.0 or 10.1 installed we need `mxnet`, `mxnet-cu100` or `mxnet-cu101`. "
   ]
  },
  {
   "cell_type": "code",
   "execution_count": null,
   "metadata": {
    "collapsed": true
   },
   "outputs": [],
   "source": [
    "pip install mxnet==1.5.0\n",
    "#pip install mxnet-cu101=1.5.0\n",
    "pip install d2l==0.10.1\n",
    "pip install gluonnlp==0.7.1\n",
    "pip install nltk\n",
    "pip install sacremoses"
   ]
  },
  {
   "cell_type": "markdown",
   "metadata": {
    "slideshow": {
     "slide_type": "slide"
    }
   },
   "source": [
    "### Tutorial Notebooks\n",
    "\n",
    "The notebooks are all on GitHub at `astonzhang/KDD19-tutorial`. Alternatively install them and launch the server via "
   ]
  },
  {
   "cell_type": "code",
   "execution_count": null,
   "metadata": {
    "collapsed": true
   },
   "outputs": [],
   "source": [
    "wget https://github.com/astonzhang/KDD19-tutorial/archive/master.zip\n",
    "unzip master.zip && rm master.zip\n",
    "cd KDD19-tutorial-master\n",
    "jupyter notebook"
   ]
  }
 ],
 "metadata": {
  "celltoolbar": "Slideshow",
  "kernelspec": {
   "display_name": "Python 3",
   "language": "python",
   "name": "python3"
  },
  "language_info": {
   "codemirror_mode": {
    "name": "ipython",
    "version": 3
   },
   "file_extension": ".py",
   "mimetype": "text/x-python",
   "name": "python",
   "nbconvert_exporter": "python",
   "pygments_lexer": "ipython3",
   "version": "3.6.8"
  }
 },
 "nbformat": 4,
 "nbformat_minor": 2
}
