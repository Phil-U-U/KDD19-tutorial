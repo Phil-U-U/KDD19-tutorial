{
 "cells": [
  {
   "cell_type": "markdown",
   "metadata": {
    "slideshow": {
     "slide_type": "slide"
    }
   },
   "source": [
    "# Using Pre-trained Word Embeddings\n",
    "\n",
    "This notebook will demonstrate how to use pre-trained word embeddings."
   ]
  },
  {
   "cell_type": "markdown",
   "metadata": {
    "slideshow": {
     "slide_type": "skip"
    }
   },
   "source": [
    "To see why word embeddings are useful, it's worth comparing them to the alternative.\n",
    "Without word embeddings, we might represent each word with a one-hot vector `[0, ...,0, 1, 0, ... 0]`, that takes value `1` at the index corresponding to the appropriate vocabulary word, \n",
    "and value `0` everywhere else. \n",
    "The weight matrices connecting our word-level inputs to the network's hidden layers would each be $v \\times h$,\n",
    "where $v$ is the size of the vocabulary and $h$ is the size of the hidden layer. \n",
    "With 100,000 words feeding into an LSTM layer with $1000$ nodes, the model would need to learn\n",
    "$4$ different weight matrices (one for each of the LSTM gates), each with 100M weights, and thus 400 million parameters in total.\n",
    "\n",
    "Fortunately, it turns out that a number of efficient techniques \n",
    "can quickly discover broadly useful word embeddings in an *unsupervised* manner.\n",
    "These embeddings map each word onto a low-dimensional vector $w \\in R^d$ with $d$ commonly chosen to be roughly $100$.\n",
    "Intuitively, these embeddings are chosen based on the contexts in which words appear. \n",
    "Words that appear in similar contexts (like \"tennis\" and \"racquet\") should have similar embeddings\n",
    "while words that do not like (like \"rat\" and \"gourmet\") should have dissimilar embeddings.\n",
    "\n",
    "Practitioners of deep learning for NLP typically inititalize their models \n",
    "using *pretrained* word embeddings, bringing in outside information, and reducing the number of parameters that a neural network needs to learn from scratch.\n",
    "\n",
    "\n",
    "Two popular word embeddings are Word2Vec and fastText. \n",
    "The following examples uses pre-trained word embeddings drawn from the following sources:\n",
    "\n",
    "* Word2Vec https://arxiv.org/abs/1301.3781\n",
    "* fastText project website：https://fasttext.cc/\n",
    "\n",
    "To begin, let's first import a few packages that we'll need for this example:"
   ]
  },
  {
   "cell_type": "code",
   "execution_count": 1,
   "metadata": {
    "slideshow": {
     "slide_type": "slide"
    }
   },
   "outputs": [],
   "source": [
    "import mxnet as mx\n",
    "from mxnet import gluon, nd\n",
    "from mxnet.gluon import rnn, nn\n",
    "import gluonnlp as nlp\n",
    "import re\n",
    "import d2l\n",
    "\n",
    "import warnings\n",
    "warnings.filterwarnings('ignore')"
   ]
  },
  {
   "cell_type": "markdown",
   "metadata": {
    "slideshow": {
     "slide_type": "slide"
    }
   },
   "source": [
    "## Pre-trained Word Embeddings"
   ]
  },
  {
   "cell_type": "markdown",
   "metadata": {
    "slideshow": {
     "slide_type": "skip"
    }
   },
   "source": [
    "GluonNLP provides a number of pre-trained Word Embeddings."
   ]
  },
  {
   "cell_type": "code",
   "execution_count": 2,
   "metadata": {
    "slideshow": {
     "slide_type": "fragment"
    }
   },
   "outputs": [
    {
     "data": {
      "text/plain": [
       "['crawl-300d-2M', 'crawl-300d-2M-subword', 'wiki.aa', 'wiki.ab', 'wiki.ace']"
      ]
     },
     "execution_count": 2,
     "metadata": {},
     "output_type": "execute_result"
    }
   ],
   "source": [
    "nlp.embedding.list_sources('fasttext')[:5]"
   ]
  },
  {
   "cell_type": "markdown",
   "metadata": {
    "slideshow": {
     "slide_type": "skip"
    }
   },
   "source": [
    "For simplicity of demonstration, we use a smaller word embedding file, such as\n",
    "the 50-dimensional one."
   ]
  },
  {
   "cell_type": "code",
   "execution_count": 3,
   "metadata": {
    "slideshow": {
     "slide_type": "fragment"
    }
   },
   "outputs": [],
   "source": [
    "emb = nlp.embedding.create('fasttext', source='wiki.en')"
   ]
  },
  {
   "cell_type": "markdown",
   "metadata": {
    "slideshow": {
     "slide_type": "slide"
    }
   },
   "source": [
    "### Word Similarity"
   ]
  },
  {
   "cell_type": "markdown",
   "metadata": {
    "slideshow": {
     "slide_type": "skip"
    }
   },
   "source": [
    "Given an input word, we can find the nearest word from\n",
    "the vocabulary by similarity. The\n",
    "similarity between any pair of words can be represented by the cosine similarity\n",
    "of their vectors."
   ]
  },
  {
   "cell_type": "code",
   "execution_count": 4,
   "metadata": {
    "slideshow": {
     "slide_type": "fragment"
    }
   },
   "outputs": [],
   "source": [
    "def norm_vecs_by_row(x):\n",
    "    return x / nd.sqrt(nd.sum(x * x, axis=1) + 1E-10).reshape((-1,1))"
   ]
  },
  {
   "cell_type": "code",
   "execution_count": 5,
   "metadata": {
    "slideshow": {
     "slide_type": "fragment"
    }
   },
   "outputs": [],
   "source": [
    "def get_knn(emb, k, word):\n",
    "    word_vec = emb[word].reshape((-1, 1))\n",
    "    vocab_vecs = norm_vecs_by_row(emb.idx_to_vec)\n",
    "    dot_prod = nd.dot(vocab_vecs, word_vec)\n",
    "    indices = nd.topk(dot_prod.reshape((len(emb.idx_to_token), )), k=k+1, ret_typ='indices')\n",
    "    indices = [int(i.asscalar()) for i in indices]\n",
    "    return [emb.idx_to_token[i] for i in indices[1:]] # Remove input tokens."
   ]
  },
  {
   "cell_type": "markdown",
   "metadata": {
    "slideshow": {
     "slide_type": "skip"
    }
   },
   "source": [
    "Let us find the 5 most similar words of 'baby' from the vocabulary (size:\n",
    "400,000 words)."
   ]
  },
  {
   "cell_type": "code",
   "execution_count": 6,
   "metadata": {
    "slideshow": {
     "slide_type": "subslide"
    }
   },
   "outputs": [
    {
     "data": {
      "text/plain": [
       "['babies', 'newborn', 'baby…', 'mom', 'toddler']"
      ]
     },
     "execution_count": 6,
     "metadata": {},
     "output_type": "execute_result"
    }
   ],
   "source": [
    "get_knn(emb, 5, 'baby')"
   ]
  },
  {
   "cell_type": "markdown",
   "metadata": {
    "slideshow": {
     "slide_type": "skip"
    }
   },
   "source": [
    "We can verify the cosine similarity of vectors of 'baby' and 'babies'."
   ]
  },
  {
   "cell_type": "code",
   "execution_count": 7,
   "metadata": {
    "slideshow": {
     "slide_type": "fragment"
    }
   },
   "outputs": [
    {
     "data": {
      "text/plain": [
       "\n",
       "[0.76009405]\n",
       "<NDArray 1 @cpu(0)>"
      ]
     },
     "execution_count": 7,
     "metadata": {},
     "output_type": "execute_result"
    }
   ],
   "source": [
    "from mxnet import nd\n",
    "def cos_sim(x, y):\n",
    "    return nd.dot(x, y) / (nd.norm(x) * nd.norm(y))\n",
    "\n",
    "cos_sim(emb['baby'], emb['babies'])"
   ]
  },
  {
   "cell_type": "markdown",
   "metadata": {
    "slideshow": {
     "slide_type": "slide"
    }
   },
   "source": [
    "### Word Analogy"
   ]
  },
  {
   "cell_type": "markdown",
   "metadata": {
    "slideshow": {
     "slide_type": "skip"
    }
   },
   "source": [
    "We can also apply pre-trained word embeddings to the word\n",
    "analogy problem. "
   ]
  },
  {
   "cell_type": "markdown",
   "metadata": {
    "slideshow": {
     "slide_type": "fragment"
    }
   },
   "source": [
    "For instance, \"man : woman :: son : daughter\" is an analogy."
   ]
  },
  {
   "cell_type": "markdown",
   "metadata": {
    "slideshow": {
     "slide_type": "skip"
    }
   },
   "source": [
    "The word analogy completion problem is defined as: for analogy 'a : b :: c : d',\n",
    "given the first three words 'a', 'b', 'c', find 'd'. The idea is to find the\n",
    "most similar word vector for vec('c') + (vec('b')-vec('a')).\n",
    "\n",
    "In this example, we will find words by analogy from the 400,000 indexed words in `vocab`."
   ]
  },
  {
   "cell_type": "code",
   "execution_count": 8,
   "metadata": {
    "slideshow": {
     "slide_type": "fragment"
    }
   },
   "outputs": [],
   "source": [
    "def get_top_k_by_analogy(emb, k, word1, word2, word3):\n",
    "    word_vecs = emb[word1, word2, word3]\n",
    "    word_diff = (word_vecs[1] - word_vecs[0] + word_vecs[2]).reshape((-1, 1))\n",
    "    vocab_vecs = norm_vecs_by_row(emb.idx_to_vec)\n",
    "    dot_prod = nd.dot(vocab_vecs, word_diff)\n",
    "    indices = nd.topk(dot_prod.reshape((len(emb.idx_to_token), )), k=k, ret_typ='indices')\n",
    "    indices = [int(i.asscalar()) for i in indices]\n",
    "    return [emb.idx_to_token[i] for i in indices]"
   ]
  },
  {
   "cell_type": "markdown",
   "metadata": {
    "slideshow": {
     "slide_type": "skip"
    }
   },
   "source": [
    "Complete word analogy 'man : woman :: son :'."
   ]
  },
  {
   "cell_type": "code",
   "execution_count": 9,
   "metadata": {
    "slideshow": {
     "slide_type": "subslide"
    }
   },
   "outputs": [
    {
     "data": {
      "text/plain": [
       "['daughter']"
      ]
     },
     "execution_count": 9,
     "metadata": {},
     "output_type": "execute_result"
    }
   ],
   "source": [
    "get_top_k_by_analogy(emb, 1, 'man', 'woman', 'son')"
   ]
  },
  {
   "cell_type": "markdown",
   "metadata": {
    "slideshow": {
     "slide_type": "slide"
    }
   },
   "source": [
    "# Text Classification and Data Sets"
   ]
  },
  {
   "cell_type": "markdown",
   "metadata": {
    "slideshow": {
     "slide_type": "skip"
    }
   },
   "source": [
    "Text classification is a common task in natural language processing, which transforms a sequence of text of indefinite length into a category of text."
   ]
  },
  {
   "cell_type": "markdown",
   "metadata": {
    "slideshow": {
     "slide_type": "subslide"
    }
   },
   "source": [
    "## Text Sentiment Classification Data\n",
    "\n",
    "Use Stanford's Large Movie Review Dataset as the data set for text sentiment classification.\n",
    "- Contains parts for training and testing purposes, each containing 25,000 movie reviews downloaded from IMDb\n",
    "- In each data set, the number of comments labeled as \"positive\" and \"negative\" is equal."
   ]
  },
  {
   "cell_type": "markdown",
   "metadata": {
    "slideshow": {
     "slide_type": "slide"
    }
   },
   "source": [
    "## Dataset in `gluon`\n",
    "\n",
    "Datasets in Gluon have the following basic structure:"
   ]
  },
  {
   "cell_type": "markdown",
   "metadata": {
    "slideshow": {
     "slide_type": "fragment"
    }
   },
   "source": [
    "``` python\n",
    "class Dataset(object):\n",
    "    def __getitem__(self, idx):\n",
    "        ...\n",
    "    \n",
    "    def __len__(self):\n",
    "        ...\n",
    "\n",
    "    def transform(self, fn, lazy=True):\n",
    "        # Returns a new dataset with each sample\n",
    "        # transformed by the function `fn`.\n",
    "```"
   ]
  },
  {
   "cell_type": "markdown",
   "metadata": {
    "slideshow": {
     "slide_type": "skip"
    }
   },
   "source": [
    "We can make list-like Python object (ie. that implements `__getitem__` meaning it  subscripted like `x[0]` etc.),\n",
    "into a `gluon` `Dataset` by wrapping it, using `gluon.data.SimpleDataset` as follows:"
   ]
  },
  {
   "cell_type": "code",
   "execution_count": 10,
   "metadata": {
    "slideshow": {
     "slide_type": "subslide"
    }
   },
   "outputs": [],
   "source": [
    "def tokenize_while_preserving_label(sample):\n",
    "    sentence, label = sample\n",
    "    return sentence.split(), label\n",
    "\n",
    "train_dataset, test_dataset = [nlp.data.IMDB(segment=segment).transform(\n",
    "    tokenize_while_preserving_label, lazy=False)\n",
    "    for segment in ('train', 'test')]"
   ]
  },
  {
   "cell_type": "code",
   "execution_count": 11,
   "metadata": {
    "slideshow": {
     "slide_type": "fragment"
    }
   },
   "outputs": [
    {
     "name": "stdout",
     "output_type": "stream",
     "text": [
      "(['Bromwell', 'High', 'is', 'a', 'cartoon', 'comedy.', 'It', 'ran', 'at', 'the', 'same', 'time', 'as', 'some', 'other', 'programs', 'about', 'school', 'life,', 'such', 'as', '\"Teachers\".', 'My', '35', 'years', 'in', 'the', 'teaching', 'profession', 'lead', 'me', 'to', 'believe', 'that', 'Bromwell', \"High's\", 'satire', 'is', 'much', 'closer', 'to', 'reality', 'than', 'is', '\"Teachers\".', 'The', 'scramble', 'to', 'survive', 'financially,', 'the', 'insightful', 'students', 'who', 'can', 'see', 'right', 'through', 'their', 'pathetic', \"teachers'\", 'pomp,', 'the', 'pettiness', 'of', 'the', 'whole', 'situation,', 'all', 'remind', 'me', 'of', 'the', 'schools', 'I', 'knew', 'and', 'their', 'students.', 'When', 'I', 'saw', 'the', 'episode', 'in', 'which', 'a', 'student', 'repeatedly', 'tried', 'to', 'burn', 'down', 'the', 'school,', 'I', 'immediately', 'recalled', '.........', 'at', '..........', 'High.', 'A', 'classic', 'line:', 'INSPECTOR:', \"I'm\", 'here', 'to', 'sack', 'one', 'of', 'your', 'teachers.', 'STUDENT:', 'Welcome', 'to', 'Bromwell', 'High.', 'I', 'expect', 'that', 'many', 'adults', 'of', 'my', 'age', 'think', 'that', 'Bromwell', 'High', 'is', 'far', 'fetched.', 'What', 'a', 'pity', 'that', 'it', \"isn't!\"], 9)\n"
     ]
    }
   ],
   "source": [
    "print(train_dataset[0])"
   ]
  },
  {
   "cell_type": "code",
   "execution_count": 12,
   "metadata": {
    "scrolled": true,
    "slideshow": {
     "slide_type": "subslide"
    }
   },
   "outputs": [
    {
     "name": "stdout",
     "output_type": "stream",
     "text": [
      "Vocab(size=28740, unk=\"<unk>\", reserved=\"['<pad>', '<bos>', '<eos>']\")\n",
      "['<unk>', '<pad>', '<bos>', '<eos>', 'the', 'a', 'and', 'of', 'to', 'is', '...']\n"
     ]
    }
   ],
   "source": [
    "def get_text(text, label):\n",
    "    return text\n",
    "train_tokens = train_dataset.transform(get_text)\n",
    "\n",
    "import itertools\n",
    "vocab = nlp.Vocab(nlp.data.count_tokens(itertools.chain.from_iterable(train_tokens)), min_freq=10)\n",
    "print(vocab)\n",
    "print(vocab.idx_to_token[:10] + [\"...\"])"
   ]
  },
  {
   "cell_type": "code",
   "execution_count": 13,
   "metadata": {
    "ExecuteTime": {
     "end_time": "2018-08-20T22:16:07.530451Z",
     "start_time": "2018-08-20T22:16:07.227238Z"
    },
    "slideshow": {
     "slide_type": "subslide"
    }
   },
   "outputs": [
    {
     "name": "stdout",
     "output_type": "stream",
     "text": [
      "[[0, 2720, 9, 5, 1400, 1352, 58, 2225, 33, 4, 171, 85, 17, 48, 82, 9137, 44, 520, 778, 140, 17, 0, 361, 7185, 193, 10, 4, 5819, 8968, 495, 86, 8, 265, 12, 0, 0, 2638, 9, 80, 2646, 8, 899, 72, 9, 0, 21, 0, 8, 2718, 0, 4, 7999, 1898, 37, 66, 69, 259, 150, 57, 1710, 0, 0, 4, 0, 7, 4, 215, 5442, 39, 2989, 86, 7, 4, 8660, 11, 638, 6, 57, 9156, 285, 11, 209, 4, 484, 10, 64, 5, 1839, 4580, 765, 8, 4401, 217, 4, 3156, 11, 1371, 19648, 0, 33, 0, 27132, 135, 443, 7613, 0, 162, 227, 8, 14323, 34, 7, 119, 0, 0, 18376, 8, 0, 27132, 11, 546, 12, 104, 2044, 7, 68, 879, 100, 12, 0, 2720, 9, 239, 0, 257, 5, 3155, 12, 14, 0], 1]\n"
     ]
    }
   ],
   "source": [
    "# `length_clip` takes as input a list and outputs a list with maximum length 500.\n",
    "length_clip = nlp.data.ClipSequence(500)\n",
    "\n",
    "def preprocess(data, label):\n",
    "    label = int(label > 5)\n",
    "    data = vocab[length_clip(data)]\n",
    "    return [data, label]\n",
    "\n",
    "\n",
    "train_dataset = train_dataset.transform(preprocess)\n",
    "test_dataset = test_dataset.transform(preprocess)\n",
    "print(train_dataset[0])"
   ]
  },
  {
   "cell_type": "markdown",
   "metadata": {
    "slideshow": {
     "slide_type": "subslide"
    }
   },
   "source": [
    "#### `gluonnlp.data.batchify.Pad`"
   ]
  },
  {
   "cell_type": "markdown",
   "metadata": {
    "slideshow": {
     "slide_type": "skip"
    }
   },
   "source": [
    "`gluonnlp.data.batchify.Pad` can be instantiated with the padding value.\n",
    "The resulting function takes a list of variable length lists (or NDArrays or numpy arrays)\n",
    "as input and returns a single NDArray where all shorter inputs are padded to the length\n",
    "of the maximum length input element."
   ]
  },
  {
   "cell_type": "code",
   "execution_count": 14,
   "metadata": {
    "ExecuteTime": {
     "end_time": "2018-08-20T21:45:36.033928Z",
     "start_time": "2018-08-20T21:45:36.030462Z"
    },
    "slideshow": {
     "slide_type": "fragment"
    }
   },
   "outputs": [
    {
     "name": "stdout",
     "output_type": "stream",
     "text": [
      "140 428\n"
     ]
    }
   ],
   "source": [
    "print(len(train_dataset[0][0]), len(train_dataset[1][0]))"
   ]
  },
  {
   "cell_type": "code",
   "execution_count": 15,
   "metadata": {
    "ExecuteTime": {
     "end_time": "2018-08-20T21:45:36.038660Z",
     "start_time": "2018-08-20T21:45:36.035590Z"
    },
    "slideshow": {
     "slide_type": "fragment"
    }
   },
   "outputs": [
    {
     "name": "stdout",
     "output_type": "stream",
     "text": [
      "pad_val: 1\n"
     ]
    }
   ],
   "source": [
    "# Pad data, stack label and lengths\n",
    "pad_val = vocab[vocab.padding_token]\n",
    "batchify_fn = nlp.data.batchify.Tuple(\n",
    "    nlp.data.batchify.Pad(axis=0, ret_length=True, pad_val=pad_val),\n",
    "    nlp.data.batchify.Stack(dtype='float32'))\n",
    "print('pad_val:', pad_val)"
   ]
  },
  {
   "cell_type": "code",
   "execution_count": 16,
   "metadata": {
    "slideshow": {
     "slide_type": "subslide"
    }
   },
   "outputs": [
    {
     "data": {
      "text/plain": [
       "((\n",
       "  [[0.0000e+00 2.7200e+03 9.0000e+00 ... 1.0000e+00 1.0000e+00 1.0000e+00]\n",
       "   [0.0000e+00 9.0800e+02 0.0000e+00 ... 8.0000e+00 3.3700e+02 2.2630e+03]\n",
       "   [1.1217e+04 1.7181e+04 3.2000e+01 ... 1.0000e+00 1.0000e+00 1.0000e+00]]\n",
       "  <NDArray 3x428 @cpu_shared(0)>, \n",
       "  [140 428 147]\n",
       "  <NDArray 3 @cpu_shared(0)>), \n",
       " [1. 1. 1.]\n",
       " <NDArray 3 @cpu_shared(0)>)"
      ]
     },
     "execution_count": 16,
     "metadata": {},
     "output_type": "execute_result"
    }
   ],
   "source": [
    "batchify_fn([train_dataset[0], train_dataset[1], train_dataset[2]])"
   ]
  },
  {
   "cell_type": "markdown",
   "metadata": {
    "slideshow": {
     "slide_type": "subslide"
    }
   },
   "source": [
    "#### `gluon.data.DataLoader`"
   ]
  },
  {
   "cell_type": "markdown",
   "metadata": {
    "slideshow": {
     "slide_type": "skip"
    }
   },
   "source": [
    "Manually sampling sentences from the dataset and applying the pad function may be bothersome.\n",
    "`gluon.data.DataLoader` automates this process."
   ]
  },
  {
   "cell_type": "code",
   "execution_count": 17,
   "metadata": {
    "ExecuteTime": {
     "end_time": "2018-08-20T21:45:36.058929Z",
     "start_time": "2018-08-20T21:45:36.056378Z"
    },
    "slideshow": {
     "slide_type": "skip"
    }
   },
   "outputs": [
    {
     "name": "stdout",
     "output_type": "stream",
     "text": [
      "Loads data from a dataset and returns mini-batches of data.\n",
      "\n",
      "    Parameters\n",
      "    ----------\n",
      "    dataset : Dataset\n",
      "        Source dataset. Note that numpy and mxnet arrays can be directly used\n",
      "        as a Dataset.\n",
      "    batch_size : int\n",
      "        Size of mini-batch.\n",
      "    shuffle : bool\n",
      "        Whether to shuffle the samples.\n",
      "    sampler : Sampler\n",
      "        The sampler to use. Either specify sampler or shuffle, not both.\n",
      "    last_batch : {'keep', 'discard', 'rollover'}\n",
      "        How to handle the last batch if batch_size does not evenly divide\n",
      "        `len(dataset)`.\n",
      "\n",
      "        keep - A batch with less samples than previous batches is returned.\n",
      "        discard - The last batch is discarded if its incomplete.\n",
      "        rollover - The remaining samples are rolled over to the next epoch.\n",
      "    batch_sampler : Sampler\n",
      "        A sampler that returns mini-batches. Do not specify batch_size,\n",
      "        shuffle, sampler, and last_batch if batch_sampler is specified.\n",
      "    batchify_fn : callable\n",
      "        Callback function to allow users to specify how to merge samples\n",
      "        into a batch. Defaults to `default_batchify_fn`::\n",
      "\n",
      "            def default_batchify_fn(data):\n",
      "                if isinstance(data[0], nd.NDArray):\n",
      "                    return nd.stack(*data)\n",
      "                elif isinstance(data[0], tuple):\n",
      "                    data = zip(*data)\n",
      "                    return [default_batchify_fn(i) for i in data]\n",
      "                else:\n",
      "                    data = np.asarray(data)\n",
      "                    return nd.array(data, dtype=data.dtype)\n",
      "\n",
      "    num_workers : int, default 0\n",
      "        The number of multiprocessing workers to use for data preprocessing.\n",
      "    pin_memory : boolean, default False\n",
      "        If ``True``, the dataloader will copy NDArrays into pinned memory\n",
      "        before returning them. Copying from CPU pinned memory to GPU is faster\n",
      "        than from normal CPU memory.\n",
      "    pin_device_id : int, default 0\n",
      "        The device id to use for allocating pinned memory if pin_memory is ``True``\n",
      "    prefetch : int, default is `num_workers * 2`\n",
      "        The number of prefetching batches only works if `num_workers` > 0.\n",
      "        If `prefetch` > 0, it allow worker process to prefetch certain batches before\n",
      "        acquiring data from iterators.\n",
      "        Note that using large prefetching batch will provide smoother bootstrapping performance,\n",
      "        but will consume more shared_memory. Using smaller number may forfeit the purpose of using\n",
      "        multiple worker processes, try reduce `num_workers` in this case.\n",
      "        By default it defaults to `num_workers * 2`.\n",
      "    thread_pool : bool, default False\n",
      "        If ``True``, use threading pool instead of multiprocessing pool. Using threadpool\n",
      "        can avoid shared memory usage. If `DataLoader` is more IO bounded or GIL is not a killing\n",
      "        problem, threadpool version may achieve better performance than multiprocessing.\n",
      "\n",
      "    \n"
     ]
    }
   ],
   "source": [
    "print(gluon.data.DataLoader.__doc__)"
   ]
  },
  {
   "cell_type": "code",
   "execution_count": 18,
   "metadata": {
    "ExecuteTime": {
     "end_time": "2018-08-20T21:45:38.430458Z",
     "start_time": "2018-08-20T21:45:36.060647Z"
    },
    "slideshow": {
     "slide_type": "subslide"
    }
   },
   "outputs": [
    {
     "name": "stdout",
     "output_type": "stream",
     "text": [
      "Average length of batches is 500.0\n"
     ]
    }
   ],
   "source": [
    "batch_size = 128\n",
    "data_loader = gluon.data.DataLoader(train_dataset, batchify_fn=batchify_fn,\n",
    "                                    batch_size=batch_size)\n",
    "print('Average length of batches is', sum(batch[0][0].shape[1] for batch in data_loader) / len(data_loader))"
   ]
  },
  {
   "cell_type": "markdown",
   "metadata": {
    "ExecuteTime": {
     "end_time": "2018-08-20T20:37:20.742611Z",
     "start_time": "2018-08-20T20:37:20.738625Z"
    },
    "slideshow": {
     "slide_type": "subslide"
    }
   },
   "source": [
    "<img src=\"../img/fixed_bucket_strategy_ratio0.7.png\" style=\"width: 100%;\"/>"
   ]
  },
  {
   "cell_type": "markdown",
   "metadata": {
    "slideshow": {
     "slide_type": "subslide"
    }
   },
   "source": [
    "##### Custom `Sampler` for `DataLoader`"
   ]
  },
  {
   "cell_type": "markdown",
   "metadata": {
    "slideshow": {
     "slide_type": "skip"
    }
   },
   "source": [
    "Sampling random sentences from the Dataset and padding them is sub-optimal as the number of padding elments is determined by the longest sentence.\n",
    "`DataLoader` supports the specification of a `Sampler` to specify the sentences to select for a batch.\n",
    "\n",
    "For example, `gluonnlp.data.FixedBucketSampler` assigns each data sample (sentence)\n",
    "to a fixed bucket based on its length. Resulting batches will only contain sentences\n",
    "from a single bucket.\n",
    "\n",
    "This can significantly reduce the average number of elements per batch and consequently the amount of computation."
   ]
  },
  {
   "cell_type": "code",
   "execution_count": 19,
   "metadata": {
    "scrolled": false,
    "slideshow": {
     "slide_type": "skip"
    }
   },
   "outputs": [
    {
     "name": "stdout",
     "output_type": "stream",
     "text": [
      "Assign each data sample to a fixed bucket based on its length.\n",
      "    The bucket keys are either given or generated from the input sequence lengths.\n",
      "\n",
      "    Parameters\n",
      "    ----------\n",
      "    lengths : list of int or list of tuple/list of int\n",
      "        The length of the sequences in the input data sample.\n",
      "    batch_size : int\n",
      "        The batch size of the sampler.\n",
      "    num_buckets : int or None, default 10\n",
      "        The number of buckets. This will not be used if bucket_keys is set.\n",
      "    bucket_keys : None or list of int or list of tuple, default None\n",
      "        The keys that will be used to create the buckets. It should usually be the lengths of the\n",
      "        sequences. If it is None, the bucket_keys will be generated based on the maximum\n",
      "        lengths of the data.\n",
      "    ratio : float, default 0\n",
      "        Ratio to scale up the batch size of smaller buckets.\n",
      "        Assume the :math:`i` th key is :math:`K_i` ,\n",
      "        the default batch size is :math:`B` , the ratio to scale the batch size is\n",
      "        :math:`\\alpha` and\n",
      "        the batch size corresponds to the :math:`i` th bucket is :math:`B_i` . We have:\n",
      "\n",
      "        .. math::\n",
      "\n",
      "            B_i = \\max(\\alpha B \\times \\frac{\\max_j sum(K_j)}{sum(K_i)}, B)\n",
      "\n",
      "        Thus, setting this to a value larger than 0, like 0.5, will scale up the batch size of the\n",
      "        smaller buckets.\n",
      "    shuffle : bool, default False\n",
      "        Whether to shuffle the batches.\n",
      "    use_average_length : bool, default False\n",
      "        False: each batch contains batch_size sequences, number of sequence elements varies.\n",
      "        True: each batch contains batch_size elements, number of sequences varies. In this case,\n",
      "        ratio option is ignored.\n",
      "    num_shards : int, default 0\n",
      "        If num_shards > 0, the sampled batch is split into num_shards smaller batches.\n",
      "        The output will have structure of list(list(int)).\n",
      "        If num_shards = 0, the output will have structure of list(int).\n",
      "        This is useful in multi-gpu training and can potentially reduce the number of paddings.\n",
      "        In general, it is set to the number of gpus.\n",
      "    bucket_scheme : BucketScheme, default ConstWidthBucket\n",
      "        It is used to generate bucket keys. It supports:\n",
      "        ConstWidthBucket: all the buckets have the same width\n",
      "        LinearWidthBucket: the width of ith  bucket follows :math:`w_i = \\alpha * i + 1`\n",
      "        ExpWidthBucket: the width of ith bucket follows\n",
      "        :math:`w_i` = bucket_len_step :math:`* w_{i-1}`\n",
      "    Examples\n",
      "    --------\n",
      "    >>> lengths = [np.random.randint(1, 100) for _ in range(1000)]\n",
      "    >>> sampler = gluonnlp.data.FixedBucketSampler(lengths, 8, ratio=0.5)\n",
      "    >>> print(sampler.stats())\n",
      "    FixedBucketSampler:\n",
      "    -etc-\n",
      "    \n"
     ]
    }
   ],
   "source": [
    "print(nlp.data.FixedBucketSampler.__doc__)"
   ]
  },
  {
   "cell_type": "code",
   "execution_count": 20,
   "metadata": {
    "ExecuteTime": {
     "end_time": "2018-08-20T21:45:39.493163Z",
     "start_time": "2018-08-20T21:45:38.432297Z"
    },
    "slideshow": {
     "slide_type": "subslide"
    }
   },
   "outputs": [
    {
     "name": "stdout",
     "output_type": "stream",
     "text": [
      "FixedBucketSampler:\n",
      "  sample_num=25000, batch_num=201\n",
      "  key=[59, 108, 157, 206, 255, 304, 353, 402, 451, 500]\n",
      "  cnt=[1036, 2543, 7173, 4296, 2619, 1729, 1330, 954, 733, 2587]\n",
      "  batch_size=[128, 128, 128, 128, 128, 128, 128, 128, 128, 128]\n"
     ]
    }
   ],
   "source": [
    "train_sampler = nlp.data.FixedBucketSampler(\n",
    "    lengths=train_dataset.transform(lambda x: len(x[0]), lazy=False),\n",
    "    batch_size=batch_size, shuffle=True)\n",
    "test_sampler = nlp.data.FixedBucketSampler(\n",
    "    lengths=test_dataset.transform(lambda x: len(x[0]), lazy=False),\n",
    "    batch_size=batch_size, shuffle=True)\n",
    "\n",
    "print(train_sampler.stats())"
   ]
  },
  {
   "cell_type": "code",
   "execution_count": 21,
   "metadata": {
    "ExecuteTime": {
     "end_time": "2018-08-20T21:45:39.497514Z",
     "start_time": "2018-08-20T21:45:39.494994Z"
    },
    "slideshow": {
     "slide_type": "fragment"
    }
   },
   "outputs": [
    {
     "name": "stdout",
     "output_type": "stream",
     "text": [
      "Average length of batches is 241.4726368159204\n"
     ]
    }
   ],
   "source": [
    "train_dataloader = gluon.data.DataLoader(train_dataset, batchify_fn=batchify_fn, batch_sampler=train_sampler)\n",
    "test_dataloader = gluon.data.DataLoader(test_dataset, batchify_fn=batchify_fn, batch_sampler=test_sampler)\n",
    "print('Average length of batches is',\n",
    "      sum(batch[0][0].shape[1] for batch in train_dataloader) / len(train_dataloader))"
   ]
  },
  {
   "cell_type": "code",
   "execution_count": 22,
   "metadata": {
    "slideshow": {
     "slide_type": "fragment"
    }
   },
   "outputs": [
    {
     "data": {
      "text/plain": [
       "((\n",
       "  [[2.8570e+03 3.0000e+01 5.3000e+02 ... 1.0000e+00 1.0000e+00 1.0000e+00]\n",
       "   [5.1000e+01 9.0000e+00 3.4000e+01 ... 1.0000e+00 1.0000e+00 1.0000e+00]\n",
       "   [2.3600e+02 9.0000e+00 5.5700e+03 ... 1.0000e+00 1.0000e+00 1.0000e+00]\n",
       "   ...\n",
       "   [1.4441e+04 1.9962e+04 5.1510e+03 ... 1.0000e+00 1.0000e+00 1.0000e+00]\n",
       "   [3.9900e+03 1.1000e+01 2.6722e+04 ... 1.0000e+00 1.0000e+00 1.0000e+00]\n",
       "   [2.8090e+03 8.6000e+01 3.8900e+02 ... 1.0000e+00 1.0000e+00 1.0000e+00]]\n",
       "  <NDArray 128x353 @cpu_shared(0)>, \n",
       "  [342 350 306 305 314 324 352 308 316 313 309 312 309 335 327 317 330 331\n",
       "   314 341 323 316 330 351 340 353 320 341 338 334 342 350 316 341 337 349\n",
       "   347 330 317 353 339 344 311 324 307 314 340 341 314 308 338 342 310 310\n",
       "   327 352 335 317 317 353 317 335 345 350 306 331 340 333 340 333 318 318\n",
       "   340 317 311 343 307 347 325 308 342 312 312 310 334 332 347 353 313 340\n",
       "   351 312 320 309 314 344 306 342 309 351 338 310 308 349 323 315 307 340\n",
       "   341 342 318 326 346 320 321 343 308 306 307 346 353 309 337 328 348 344\n",
       "   344 338]\n",
       "  <NDArray 128 @cpu_shared(0)>), \n",
       " [1. 1. 1. 1. 0. 1. 0. 1. 0. 0. 0. 0. 0. 1. 1. 0. 0. 1. 1. 1. 0. 1. 0. 1.\n",
       "  0. 0. 0. 1. 1. 1. 1. 0. 1. 1. 0. 1. 0. 0. 0. 0. 0. 1. 0. 1. 1. 1. 0. 1.\n",
       "  0. 0. 0. 0. 1. 1. 0. 0. 0. 0. 0. 1. 1. 0. 0. 1. 1. 0. 1. 0. 0. 1. 1. 1.\n",
       "  1. 0. 1. 0. 0. 0. 0. 1. 0. 1. 1. 0. 1. 1. 1. 1. 0. 0. 1. 1. 0. 1. 1. 0.\n",
       "  1. 0. 0. 0. 1. 1. 0. 1. 0. 1. 1. 0. 0. 0. 1. 0. 1. 0. 0. 0. 1. 1. 0. 0.\n",
       "  1. 0. 1. 1. 1. 1. 0. 0.]\n",
       " <NDArray 128 @cpu_shared(0)>)"
      ]
     },
     "execution_count": 22,
     "metadata": {},
     "output_type": "execute_result"
    }
   ],
   "source": [
    "next(iter(train_dataloader))"
   ]
  },
  {
   "cell_type": "markdown",
   "metadata": {
    "slideshow": {
     "slide_type": "slide"
    }
   },
   "source": [
    "# Classification Models: Using a Bag of Context Free Embeddings"
   ]
  },
  {
   "cell_type": "markdown",
   "metadata": {
    "slideshow": {
     "slide_type": "subslide"
    }
   },
   "source": [
    "### Train and Evaluate the Model\n",
    "\n"
   ]
  },
  {
   "cell_type": "code",
   "execution_count": 23,
   "metadata": {},
   "outputs": [],
   "source": [
    "def evaluate(test_data, ctx, net):\n",
    "    accuracy = 0\n",
    "    ctx = d2l.try_gpu()\n",
    "    for i, ((inputs, _), labels) in enumerate(test_data):\n",
    "        inputs = inputs.as_in_context(ctx)\n",
    "        labels = labels.as_in_context(ctx)\n",
    "        outs = net(inputs)\n",
    "        accuracy += (outs.argmax(axis=1).squeeze() == labels).mean()\n",
    "    print(\"Test Acc {}\".format(accuracy.asscalar()/(i+1)))"
   ]
  },
  {
   "cell_type": "code",
   "execution_count": 24,
   "metadata": {},
   "outputs": [],
   "source": [
    "def train(net, train_iter, test_iter, loss, trainer, num_epochs, ctx):\n",
    "    num_batches = len(train_iter)\n",
    "    params = [p for p in net.collect_params().values() if p.grad_req != 'null']\n",
    "    for epoch in range(num_epochs):\n",
    "        accuracy = mx.metric.Accuracy()\n",
    "        running_loss = 0\n",
    "        for i, ((features, _), labels) in enumerate(train_iter):           \n",
    "            features = gluon.utils.split_and_load(features, ctx, even_split=False)\n",
    "            labels = gluon.utils.split_and_load(labels, ctx, even_split=False)\n",
    "            losses, preds = [], []\n",
    "            with mx.autograd.record():\n",
    "                for feature, label in zip(features, labels):\n",
    "                    y = net(feature)\n",
    "                    l = loss(y, label)\n",
    "                    losses.append(l)\n",
    "                    preds.append(y)\n",
    "            mx.autograd.backward(losses)\n",
    "            for l in losses:\n",
    "                running_loss += l.mean().asscalar() / len(losses)\n",
    "            # Gradient clipping\n",
    "            trainer.allreduce_grads()\n",
    "            nlp.utils.clip_grad_global_norm(params, 1)\n",
    "            trainer.update(1)\n",
    "\n",
    "            accuracy.update(labels, preds)\n",
    "            if i % 25 == 0:\n",
    "                print(\"Batch\", i, \"Acc\", accuracy.get()[1],\"Train Loss\", running_loss/(i+1))\n",
    "        print(\"Epoch {}, Acc {}, Train Loss {}\".format(epoch, accuracy.get(), running_loss/(i+1)))\n",
    "        evaluate(test_iter, ctx, net)"
   ]
  },
  {
   "cell_type": "markdown",
   "metadata": {
    "slideshow": {
     "slide_type": "subslide"
    }
   },
   "source": [
    "We define a prediction function:"
   ]
  },
  {
   "cell_type": "code",
   "execution_count": 25,
   "metadata": {
    "ExecuteTime": {
     "end_time": "2019-04-18T18:41:09.806821Z",
     "start_time": "2019-04-18T18:41:09.802933Z"
    },
    "attributes": {
     "classes": [],
     "id": "",
     "n": "49"
    },
    "slideshow": {
     "slide_type": "fragment"
    }
   },
   "outputs": [],
   "source": [
    "def predict_sentiment(net, vocab, sentence):\n",
    "    sentence = nd.array(vocab[sentence.split()], ctx=d2l.try_gpu())\n",
    "    label = nd.argmax(net(sentence.reshape((1, -1))), axis=1)\n",
    "    return 'positive' if label.asscalar() == 1 else 'negative'"
   ]
  },
  {
   "cell_type": "markdown",
   "metadata": {
    "slideshow": {
     "slide_type": "subslide"
    }
   },
   "source": [
    "# Using Recurrent Neural Networks\n",
    "\n",
    "In this section, we will apply\n",
    "pre-trained word vectors and bidirectional recurrent neural networks with\n",
    "multiple hidden layers:\n",
    "\n",
    "Maas, Andrew L., et al. \"Learning word vectors for sentiment analysis.\" Proceedings of the 49th annual meeting of the association for computational linguistics: Human language technologies-volume 1. Association for Computational Linguistics, 2011."
   ]
  },
  {
   "cell_type": "markdown",
   "metadata": {
    "slideshow": {
     "slide_type": "subslide"
    }
   },
   "source": [
    "## Bidirectional RNNs\n",
    "\n",
    "![BiRNN](../img/birnn.svg)\n"
   ]
  },
  {
   "cell_type": "markdown",
   "metadata": {
    "slideshow": {
     "slide_type": "skip"
    }
   },
   "source": [
    "## Use a Recurrent Neural Network Model\n",
    "\n",
    "In this model, each word first obtains a feature vector from the embedding\n",
    "layer. Then, we further encode the feature sequence using a bidirectional\n",
    "recurrent neural network to obtain sequence information. Finally, we transform\n",
    "the encoded sequence information to output through the fully connected\n",
    "layer. Specifically, we can concatenate hidden states of bidirectional\n",
    "long-short term memory in the initial time step and final time step and pass it\n",
    "to the output layer classification as encoded feature sequence information. In\n",
    "the `BiRNN` class implemented below, the `Embedding` instance is the embedding\n",
    "layer, the `LSTM` instance is the hidden layer for sequence encoding, and the\n",
    "`Dense` instance is the output layer for generated classification results."
   ]
  },
  {
   "cell_type": "code",
   "execution_count": 26,
   "metadata": {
    "attributes": {
     "classes": [],
     "id": "",
     "n": "46"
    },
    "slideshow": {
     "slide_type": "subslide"
    }
   },
   "outputs": [],
   "source": [
    "class BiRNN(nn.Block):\n",
    "    def __init__(self, vocab_size, embed_size, num_hiddens, num_layers, **kwargs):\n",
    "        super(BiRNN, self).__init__(**kwargs)\n",
    "        self.embedding = nn.Embedding(vocab_size, embed_size)\n",
    "        # Set Bidirectional to True to get a bidirectional recurrent neural\n",
    "        # network\n",
    "        self.encoder = rnn.LSTM(num_hiddens, num_layers=num_layers,\n",
    "                                bidirectional=True, input_size=embed_size)\n",
    "        self.decoder = nn.Dense(2)\n",
    "\n",
    "    def forward(self, inputs):\n",
    "        # The shape of inputs is (batch size, number of words). Because LSTM\n",
    "        # needs to use sequence as the first dimension, the input is\n",
    "        # transformed and the word feature is then extracted. The output shape\n",
    "        # is (number of words, batch size, word vector dimension).\n",
    "        embeddings = self.embedding(mx.nd.transpose(inputs))\n",
    "        # Since the input (embeddings) is the only argument passed into\n",
    "        # rnn.LSTM, it only returns the hidden states of the last hidden layer\n",
    "        # at different time step (outputs). The shape of outputs is\n",
    "        # (number of words, batch size, 2 * number of hidden units).\n",
    "        outputs = self.encoder(embeddings)\n",
    "        # Concatenate the hidden states of the initial time step and final\n",
    "        # time step to use as the input of the fully connected layer. Its\n",
    "        # shape is (batch size, 4 * number of hidden units)\n",
    "        encoding = mx.nd.concat(outputs[0], outputs[-1])\n",
    "        outs = self.decoder(encoding)\n",
    "        return outs"
   ]
  },
  {
   "cell_type": "markdown",
   "metadata": {
    "slideshow": {
     "slide_type": "subslide"
    }
   },
   "source": [
    "Create a bidirectional recurrent neural network with two hidden layers."
   ]
  },
  {
   "cell_type": "code",
   "execution_count": 27,
   "metadata": {
    "slideshow": {
     "slide_type": "fragment"
    }
   },
   "outputs": [],
   "source": [
    "ctx, embed_size = d2l.try_all_gpus(), 300\n",
    "num_hiddens, num_layers = 100, 2\n",
    "net = BiRNN(len(vocab), embed_size, num_hiddens, num_layers)\n",
    "net.initialize(mx.init.Xavier(), ctx=ctx)"
   ]
  },
  {
   "cell_type": "code",
   "execution_count": 28,
   "metadata": {},
   "outputs": [
    {
     "data": {
      "text/plain": [
       "(28740, 300)"
      ]
     },
     "execution_count": 28,
     "metadata": {},
     "output_type": "execute_result"
    }
   ],
   "source": [
    "emb = nlp.embedding.create('fasttext', source='wiki.simple', load_ngrams=True)\n",
    "idx_to_vec = emb[vocab.idx_to_token]\n",
    "idx_to_vec.shape"
   ]
  },
  {
   "cell_type": "markdown",
   "metadata": {
    "slideshow": {
     "slide_type": "skip"
    }
   },
   "source": [
    "### Load Pre-trained Word Vectors\n",
    "\n",
    "Because the training data set for sentiment classification is not very large, in order to deal with overfitting, we will directly use word vectors pre-trained on a larger corpus as the feature vectors of all words. Here, we load a 100-dimensional GloVe word vector for each word in the dictionary `vocab`."
   ]
  },
  {
   "cell_type": "code",
   "execution_count": 29,
   "metadata": {
    "attributes": {
     "classes": [],
     "id": "",
     "n": "47"
    },
    "slideshow": {
     "slide_type": "fragment"
    }
   },
   "outputs": [],
   "source": [
    "net.embedding.weight.set_data(idx_to_vec)\n",
    "net.embedding.collect_params().setattr('grad_req', 'null')"
   ]
  },
  {
   "cell_type": "markdown",
   "metadata": {},
   "source": [
    "### Train and Evaluate the Model\n",
    "\n",
    "Now, we can start training."
   ]
  },
  {
   "cell_type": "code",
   "execution_count": 30,
   "metadata": {
    "attributes": {
     "classes": [],
     "id": "",
     "n": "48"
    },
    "slideshow": {
     "slide_type": "subslide"
    }
   },
   "outputs": [
    {
     "name": "stdout",
     "output_type": "stream",
     "text": [
      "Batch 0 Acc 0.484375 Train Loss 0.6938077509403229\n",
      "Batch 25 Acc 0.5309622102254684 Train Loss 0.6898814967045417\n",
      "Batch 50 Acc 0.5470152779965349 Train Loss 0.6906460038587159\n",
      "Batch 75 Acc 0.5764743658353848 Train Loss 0.6739107990441354\n",
      "Batch 100 Acc 0.5751602564102564 Train Loss 0.6888917897376093\n",
      "Batch 125 Acc 0.5853893600616809 Train Loss 0.6879730587086034\n",
      "Batch 150 Acc 0.6071733105947559 Train Loss 0.6707309216556959\n",
      "Batch 175 Acc 0.6205403927643869 Train Loss 0.6583679692650383\n",
      "Batch 200 Acc 0.62748 Train Loss 0.6586800434844411\n",
      "Epoch 0, Acc ('accuracy', 0.62748), Train Loss 0.6586800434844411\n",
      "Test Acc 0.6838696350404365\n",
      "Batch 0 Acc 0.7265625 Train Loss 0.6703384667634964\n",
      "Batch 25 Acc 0.6577139287945034 Train Loss 0.6076179347359217\n",
      "Batch 50 Acc 0.6851409460105112 Train Loss 0.619041949729709\n",
      "Batch 75 Acc 0.7036482293784102 Train Loss 0.5970501465918986\n",
      "Batch 100 Acc 0.715230732446003 Train Loss 0.5821028100603288\n",
      "Batch 125 Acc 0.7088997178763785 Train Loss 0.5854523529904703\n",
      "Batch 150 Acc 0.705575654394552 Train Loss 0.5832916653856931\n",
      "Batch 175 Acc 0.7095871559633028 Train Loss 0.5846884383354336\n",
      "Batch 200 Acc 0.70352 Train Loss 0.5863057932265066\n",
      "Epoch 1, Acc ('accuracy', 0.70352), Train Loss 0.5863057932265066\n",
      "Test Acc 0.5918714053666772\n",
      "Batch 0 Acc 0.6640625 Train Loss 0.5848672837018967\n",
      "Batch 25 Acc 0.678712420285454 Train Loss 0.5777898511061301\n",
      "Batch 50 Acc 0.6908197241160615 Train Loss 0.5797720341851899\n",
      "Batch 75 Acc 0.6791837593352267 Train Loss 0.6055138237088135\n",
      "Batch 100 Acc 0.6842685134178013 Train Loss 0.6197246761974131\n",
      "Batch 125 Acc 0.69686301628214 Train Loss 0.6057282594283895\n",
      "Batch 150 Acc 0.7019595448798989 Train Loss 0.5958068974266778\n",
      "Batch 175 Acc 0.701532008024804 Train Loss 0.5944831759922884\n",
      "Batch 200 Acc 0.70648 Train Loss 0.5889827297694648\n",
      "Epoch 2, Acc ('accuracy', 0.70648), Train Loss 0.5889827297694648\n",
      "Test Acc 0.7536174831677921\n",
      "Batch 0 Acc 0.71875 Train Loss 0.5747601836919785\n",
      "Batch 25 Acc 0.7686298076923077 Train Loss 0.5079978062556341\n",
      "Batch 50 Acc 0.7621017156862745 Train Loss 0.5115383619479105\n",
      "Batch 75 Acc 0.7556130367304708 Train Loss 0.5200379064404651\n",
      "Batch 100 Acc 0.7589095219280917 Train Loss 0.5237047226712255\n",
      "Batch 125 Acc 0.7444970040996531 Train Loss 0.5440361684276944\n",
      "Batch 150 Acc 0.7421912161090851 Train Loss 0.5490729146889898\n",
      "Batch 175 Acc 0.7444701821319889 Train Loss 0.545691208596426\n",
      "Batch 200 Acc 0.74952 Train Loss 0.5372521461576075\n",
      "Epoch 3, Acc ('accuracy', 0.74952), Train Loss 0.5372521461576075\n",
      "Test Acc 0.7934235232559281\n",
      "Batch 0 Acc 0.859375 Train Loss 0.3852768987417221\n",
      "Batch 25 Acc 0.7670349907918969 Train Loss 0.5076648469727773\n",
      "Batch 50 Acc 0.7705787781350483 Train Loss 0.5059621866573306\n",
      "Batch 75 Acc 0.7642958283411393 Train Loss 0.5143105102163789\n",
      "Batch 100 Acc 0.7667393586947743 Train Loss 0.5102003454830092\n",
      "Batch 125 Acc 0.7712532299741602 Train Loss 0.5026835811191371\n",
      "Batch 150 Acc 0.7752237046562718 Train Loss 0.4947625704923805\n",
      "Batch 175 Acc 0.7821890865846407 Train Loss 0.48556057030377403\n",
      "Batch 200 Acc 0.78456 Train Loss 0.4817173155812334\n",
      "Epoch 4, Acc ('accuracy', 0.78456), Train Loss 0.4817173155812334\n",
      "Test Acc 0.8044194360474246\n"
     ]
    }
   ],
   "source": [
    "lr, num_epochs = 0.001, 5\n",
    "trainer = gluon.Trainer(net.collect_params(), 'adam', {'learning_rate': lr}, update_on_kvstore=False)\n",
    "loss = gluon.loss.SoftmaxCrossEntropyLoss()\n",
    "train(net, train_dataloader, test_dataloader, loss, trainer, num_epochs, ctx)"
   ]
  },
  {
   "cell_type": "code",
   "execution_count": 31,
   "metadata": {
    "attributes": {
     "classes": [],
     "id": "",
     "n": "50"
    },
    "slideshow": {
     "slide_type": "subslide"
    }
   },
   "outputs": [
    {
     "data": {
      "text/plain": [
       "'positive'"
      ]
     },
     "execution_count": 31,
     "metadata": {},
     "output_type": "execute_result"
    }
   ],
   "source": [
    "predict_sentiment(net, vocab, 'this movie is so great')"
   ]
  },
  {
   "cell_type": "code",
   "execution_count": 32,
   "metadata": {
    "slideshow": {
     "slide_type": "fragment"
    }
   },
   "outputs": [
    {
     "data": {
      "text/plain": [
       "'negative'"
      ]
     },
     "execution_count": 32,
     "metadata": {},
     "output_type": "execute_result"
    }
   ],
   "source": [
    "predict_sentiment(net, vocab, 'this movie is so bad')"
   ]
  },
  {
   "cell_type": "markdown",
   "metadata": {
    "slideshow": {
     "slide_type": "slide"
    }
   },
   "source": [
    "# Using Convolutional Neural Networks (textCNN)\n",
    "\n",
    "Idea: treat text as a one-dimensional \"image\".\n",
    "\n",
    "Then we can use one-dimensional convolutional neural networks to capture associations between adjacent words."
   ]
  },
  {
   "cell_type": "markdown",
   "metadata": {
    "slideshow": {
     "slide_type": "skip"
    }
   },
   "source": [
    "This section describes a groundbreaking approach to applying\n",
    "convolutional neural networks to text analysis: textCNN :cite:`Kim.2014`."
   ]
  },
  {
   "cell_type": "markdown",
   "metadata": {
    "slideshow": {
     "slide_type": "subslide"
    }
   },
   "source": [
    "## One-dimensional Convolutional Layer\n",
    "\n",
    "![One-dimensional cross-correlation operation. The shaded parts are the first output element as well as the input and kernel array elements used in its calculation: $0\\times1+1\\times2=2$. ](../img/conv1d.svg)"
   ]
  },
  {
   "cell_type": "markdown",
   "metadata": {
    "slideshow": {
     "slide_type": "skip"
    }
   },
   "source": [
    "Before introducing the model, let us explain how a one-dimensional convolutional layer works. Like a two-dimensional convolutional layer, a one-dimensional convolutional layer uses a one-dimensional cross-correlation operation. In the one-dimensional cross-correlation operation, the convolution window starts from the leftmost side of the input array and slides on the input array from left to right successively. When the convolution window slides to a certain position, the input subarray in the window and kernel array are multiplied and summed by element to get the element at the corresponding location in the output array. As shown in Figure 12.4, the input is a one-dimensional array with a width of 7 and the width of the kernel array is 2. As we can see, the output width is $7-2+1=6$ and the first element is obtained by performing multiplication by element on the leftmost input subarray with a width of 2 and kernel array and then summing the results.\n",
    "\n",
    "\n",
    "Next, we implement one-dimensional cross-correlation in the `corr1d` function. It accepts the input array `X` and kernel array `K` and outputs the array `Y`."
   ]
  },
  {
   "cell_type": "code",
   "execution_count": 33,
   "metadata": {
    "attributes": {
     "classes": [],
     "id": "",
     "n": "3"
    },
    "slideshow": {
     "slide_type": "fragment"
    }
   },
   "outputs": [],
   "source": [
    "def corr1d(X, K):\n",
    "    w = K.shape[0]\n",
    "    Y = nd.zeros((X.shape[0] - w + 1))\n",
    "    for i in range(Y.shape[0]):\n",
    "        Y[i] = (X[i: i + w] * K).sum()\n",
    "    return Y"
   ]
  },
  {
   "cell_type": "markdown",
   "metadata": {
    "slideshow": {
     "slide_type": "skip"
    }
   },
   "source": [
    "Let's reproduce the results of the one-dimensional cross-correlation operation seen in above Figure."
   ]
  },
  {
   "cell_type": "code",
   "execution_count": 34,
   "metadata": {
    "attributes": {
     "classes": [],
     "id": "",
     "n": "4"
    },
    "slideshow": {
     "slide_type": "fragment"
    }
   },
   "outputs": [
    {
     "data": {
      "text/plain": [
       "\n",
       "[ 2.  5.  8. 11. 14. 17.]\n",
       "<NDArray 6 @cpu(0)>"
      ]
     },
     "execution_count": 34,
     "metadata": {},
     "output_type": "execute_result"
    }
   ],
   "source": [
    "X, K = nd.array([0, 1, 2, 3, 4, 5, 6]), nd.array([1, 2])\n",
    "corr1d(X, K)"
   ]
  },
  {
   "cell_type": "markdown",
   "metadata": {
    "slideshow": {
     "slide_type": "subslide"
    }
   },
   "source": [
    "## One-dimensional Convolutional Layer with multiple input channels\n",
    "\n",
    "\n",
    "![One-dimensional cross-correlation operation with three input channels. The shaded parts are the first output element as well as the input and kernel array elements used in its calculation: $0\\times1+1\\times2+1\\times3+2\\times4+2\\times(-1)+3\\times(-3)=2$. ](../img/conv1d-channel.svg)"
   ]
  },
  {
   "cell_type": "markdown",
   "metadata": {
    "slideshow": {
     "slide_type": "skip"
    }
   },
   "source": [
    "The one-dimensional cross-correlation operation for multiple input channels is also similar to the two-dimensional cross-correlation operation for multiple input channels. On each channel, it performs the one-dimensional cross-correlation operation on the kernel and its corresponding input and adds the results of the channels to get the output. Figure 12.5 shows a one-dimensional cross-correlation operation with three input channels.\n",
    "\n",
    "Now, we reproduce the results of the one-dimensional cross-correlation operation with multi-input channel."
   ]
  },
  {
   "cell_type": "code",
   "execution_count": 35,
   "metadata": {
    "attributes": {
     "classes": [],
     "id": "",
     "n": "5"
    },
    "slideshow": {
     "slide_type": "fragment"
    }
   },
   "outputs": [],
   "source": [
    "def corr1d_multi_in(X, K):\n",
    "    return nd.add_n(*[corr1d(x, k) for x, k in zip(X, K)])"
   ]
  },
  {
   "cell_type": "code",
   "execution_count": 36,
   "metadata": {
    "slideshow": {
     "slide_type": "fragment"
    }
   },
   "outputs": [
    {
     "data": {
      "text/plain": [
       "\n",
       "[ 2.  8. 14. 20. 26. 32.]\n",
       "<NDArray 6 @cpu(0)>"
      ]
     },
     "execution_count": 36,
     "metadata": {},
     "output_type": "execute_result"
    }
   ],
   "source": [
    "X = nd.array([[0, 1, 2, 3, 4, 5, 6],\n",
    "              [1, 2, 3, 4, 5, 6, 7],\n",
    "              [2, 3, 4, 5, 6, 7, 8]])\n",
    "K = nd.array([[1, 2], [3, 4], [-1, -3]])\n",
    "corr1d_multi_in(X, K)"
   ]
  },
  {
   "cell_type": "markdown",
   "metadata": {
    "slideshow": {
     "slide_type": "subslide"
    }
   },
   "source": [
    "This is equivalent to two-dimensional cross-correlation with a single input channel\n",
    "\n",
    "![Two-dimensional cross-correlation operation with a single input channel. The highlighted parts are the first output element and the input and kernel array elements used in its calculation: $2\\times(-1)+3\\times(-3)+1\\times3+2\\times4+0\\times1+1\\times2=2$. ](../img/conv1d-2d.svg)"
   ]
  },
  {
   "cell_type": "markdown",
   "metadata": {
    "slideshow": {
     "slide_type": "fragment"
    }
   },
   "source": [
    "We can obtain multiple output channels by applying the cross-correlation multiple times with different kernels."
   ]
  },
  {
   "cell_type": "markdown",
   "metadata": {
    "slideshow": {
     "slide_type": "skip"
    }
   },
   "source": [
    "## Max-Over-Time Pooling Layer\n",
    "\n",
    "Similarly, we have a one-dimensional pooling layer. The max-over-time pooling layer used in TextCNN actually corresponds to a one-dimensional global maximum pooling layer. Assuming that the input contains multiple channels, and each channel consists of values on different time steps, the output of each channel will be the largest value of all time steps in the channel. Therefore, the input of the max-over-time pooling layer can have different time steps on each channel.\n",
    "\n",
    "To improve computing performance, we often combine timing examples of different lengths into a mini-batch and make the lengths of each timing example in the batch consistent by appending special characters (such as 0) to the end of shorter examples. Naturally, the added special characters have no intrinsic meaning. Because the main purpose of the max-over-time pooling layer is to capture the most important features of timing, it usually allows the model to be unaffected by the manually added characters."
   ]
  },
  {
   "cell_type": "markdown",
   "metadata": {
    "slideshow": {
     "slide_type": "subslide"
    }
   },
   "source": [
    "## The TextCNN Model\n",
    "\n",
    "![TextCNN design. ](../img/textcnn.svg)\n",
    "\n",
    "Kim, Yoon. \"Convolutional neural networks for sentence classification.\" EMNLP 2014."
   ]
  },
  {
   "cell_type": "markdown",
   "metadata": {
    "slideshow": {
     "slide_type": "skip"
    }
   },
   "source": [
    "TextCNN mainly uses a one-dimensional convolutional layer and max-over-time pooling layer. Suppose the input text sequence consists of $n$ words, and each word is represented by a $d$-dimension word vector. Then the input example has a width of $n$, a height of 1, and $d$ input channels. The calculation of textCNN can be mainly divided into the following steps:\n",
    "\n",
    "1. Define multiple one-dimensional convolution kernels and use them to perform convolution calculations on the inputs. Convolution kernels with different widths may capture the correlation of different numbers of adjacent words.\n",
    "2. Perform max-over-time pooling on all output channels, and then concatenate the pooling output values of these channels in a vector.\n",
    "3. The concatenated vector is transformed into the output for each category through the fully connected layer. A dropout layer can be used in this step to deal with overfitting.\n",
    "\n",
    "Figure 12.7 gives an example to illustrate the textCNN. The input here is a sentence with 11 words, with each word represented by a 6-dimensional word vector. Therefore, the input sequence has a width of 11 and 6 input channels. We assume there are two one-dimensional convolution kernels with widths of 2 and 4, and 4 and 5 output channels, respectively. Therefore, after one-dimensional convolution calculation, the width of the four output channels is $11-2+1=10$, while the width of the other five channels is $11-4+1=8$. Even though the width of each channel is different, we can still perform max-over-time pooling for each channel and concatenate the pooling outputs of the 9 channels into a 9-dimensional vector. Finally, we use a fully connected layer to transform the 9-dimensional vector into a 2-dimensional output: positive sentiment and negative sentiment predictions.\n",
    "\n",
    "Next, we will implement a textCNN model. Compared with the previous section, in addition to replacing the recurrent neural network with a one-dimensional convolutional layer, here we use two embedding layers, one with a fixed weight and another that participates in training."
   ]
  },
  {
   "cell_type": "code",
   "execution_count": 37,
   "metadata": {
    "attributes": {
     "classes": [],
     "id": "",
     "n": "10"
    },
    "slideshow": {
     "slide_type": "subslide"
    }
   },
   "outputs": [],
   "source": [
    "class TextCNN(nn.Block):\n",
    "    def __init__(self, vocab_size, embed_size, kernel_sizes, num_channels,\n",
    "                 **kwargs):\n",
    "        super(TextCNN, self).__init__(**kwargs)\n",
    "        self.embedding = nn.Embedding(vocab_size, embed_size)\n",
    "        # The embedding layer does not participate in training\n",
    "        self.constant_embedding = nn.Embedding(vocab_size, embed_size)\n",
    "        self.dropout = nn.Dropout(0.5)\n",
    "        self.decoder = nn.Dense(2)\n",
    "        # The max-over-time pooling layer has no weight, so it can share an\n",
    "        # instance\n",
    "        self.pool = nn.GlobalMaxPool1D()\n",
    "        # Create multiple one-dimensional convolutional layers\n",
    "        self.convs = nn.Sequential()\n",
    "        for c, k in zip(num_channels, kernel_sizes):\n",
    "            self.convs.add(nn.Conv1D(c, k, activation='relu'))\n",
    "\n",
    "    def forward(self, inputs):\n",
    "        # Concatenate the output of two embedding layers with shape of\n",
    "        # (batch size, number of words, word vector dimension) by word vector\n",
    "        embeddings = nd.concat(\n",
    "            self.embedding(inputs), self.constant_embedding(inputs), dim=2)\n",
    "        # According to the input format required by Conv1D, the word vector\n",
    "        # dimension, that is, the channel dimension of the one-dimensional\n",
    "        # convolutional layer, is transformed into the previous dimension\n",
    "        embeddings = embeddings.transpose((0, 2, 1))\n",
    "        # For each one-dimensional convolutional layer, after max-over-time\n",
    "        # pooling, an NDArray with the shape of (batch size, channel size, 1)\n",
    "        # can be obtained. Use the flatten function to remove the last\n",
    "        # dimension and then concatenate on the channel dimension\n",
    "        encoding = nd.concat(*[nd.flatten(\n",
    "            self.pool(conv(embeddings))) for conv in self.convs], dim=1)\n",
    "        # After applying the dropout method, use a fully connected layer to\n",
    "        # obtain the output\n",
    "        outputs = self.decoder(self.dropout(encoding))\n",
    "        return outputs"
   ]
  },
  {
   "cell_type": "markdown",
   "metadata": {
    "slideshow": {
     "slide_type": "subslide"
    }
   },
   "source": [
    "Create a TextCNN instance. It has 3 convolutional layers with kernel widths of 3, 4, and 5, all with 100 output channels."
   ]
  },
  {
   "cell_type": "code",
   "execution_count": 38,
   "metadata": {
    "slideshow": {
     "slide_type": "fragment"
    }
   },
   "outputs": [],
   "source": [
    "kernel_sizes, nums_channels = [3, 4, 5], [100, 100, 100]\n",
    "net = TextCNN(len(vocab), embed_size, kernel_sizes, nums_channels)\n",
    "net.initialize(mx.init.Xavier(), ctx=ctx)"
   ]
  },
  {
   "cell_type": "markdown",
   "metadata": {
    "slideshow": {
     "slide_type": "skip"
    }
   },
   "source": [
    "### Load Pre-trained Word Vectors\n",
    "\n",
    "As in the previous section, load pre-trained 100-dimensional GloVe word vectors and initialize the embedding layers `embedding` and `constant_embedding`. Here, the former participates in training while the latter has a fixed weight."
   ]
  },
  {
   "cell_type": "code",
   "execution_count": 39,
   "metadata": {
    "slideshow": {
     "slide_type": "fragment"
    }
   },
   "outputs": [],
   "source": [
    "net.embedding.weight.set_data(idx_to_vec)\n",
    "net.constant_embedding.weight.set_data(idx_to_vec)\n",
    "net.constant_embedding.collect_params().setattr('grad_req', 'null')"
   ]
  },
  {
   "cell_type": "markdown",
   "metadata": {
    "slideshow": {
     "slide_type": "skip"
    }
   },
   "source": [
    "### Train and Evaluate the Model\n",
    "\n",
    "Now we can train the model."
   ]
  },
  {
   "cell_type": "code",
   "execution_count": 40,
   "metadata": {
    "attributes": {
     "classes": [],
     "id": "",
     "n": "30"
    },
    "slideshow": {
     "slide_type": "subslide"
    }
   },
   "outputs": [
    {
     "name": "stdout",
     "output_type": "stream",
     "text": [
      "Batch 0 Acc 0.4453125 Train Loss 0.9054063707590103\n",
      "Batch 25 Acc 0.5721301411909147 Train Loss 0.8247966115864424\n",
      "Batch 50 Acc 0.6376073814826598 Train Loss 0.6877362090436852\n",
      "Batch 75 Acc 0.6810400171196234 Train Loss 0.6127394276278976\n",
      "Batch 100 Acc 0.7012353706111834 Train Loss 0.5858116941618743\n",
      "Batch 125 Acc 0.718857068976663 Train Loss 0.559216885797916\n",
      "Batch 150 Acc 0.7330869355616262 Train Loss 0.536362633614844\n",
      "Batch 175 Acc 0.7438990825688073 Train Loss 0.5186570233940571\n",
      "Batch 200 Acc 0.75528 Train Loss 0.501863587008261\n",
      "Epoch 0, Acc ('accuracy', 0.75528), Train Loss 0.501863587008261\n",
      "Test Acc 0.8459488758489714\n",
      "Batch 0 Acc 0.8828125 Train Loss 0.3133721239864826\n",
      "Batch 25 Acc 0.8690513219284604 Train Loss 0.31316623378258485\n",
      "Batch 50 Acc 0.8682774746687452 Train Loss 0.3106932615240415\n",
      "Batch 75 Acc 0.8731038811591171 Train Loss 0.30155029309619413\n",
      "Batch 100 Acc 0.8737256161194509 Train Loss 0.29962366422878045\n",
      "Batch 125 Acc 0.8733560017963687 Train Loss 0.29981191642582417\n",
      "Batch 150 Acc 0.8743382706807122 Train Loss 0.29782890100402154\n",
      "Batch 175 Acc 0.8742523172457879 Train Loss 0.2984366471117193\n",
      "Batch 200 Acc 0.87344 Train Loss 0.30024149494051044\n",
      "Epoch 1, Acc ('accuracy', 0.87344), Train Loss 0.30024149494051044\n",
      "Test Acc 0.8819647554177136\n",
      "Batch 0 Acc 0.90625 Train Loss 0.1921774372458458\n",
      "Batch 25 Acc 0.9206145966709347 Train Loss 0.2111917777130237\n",
      "Batch 50 Acc 0.9239477040816326 Train Loss 0.19964862793830096\n",
      "Batch 75 Acc 0.9224027362120565 Train Loss 0.20179804413898014\n",
      "Batch 100 Acc 0.9235425294679834 Train Loss 0.19797047515316765\n",
      "Batch 125 Acc 0.9225806451612903 Train Loss 0.20113160532145274\n",
      "Batch 150 Acc 0.9219835587377353 Train Loss 0.20121973104133511\n",
      "Batch 175 Acc 0.9214259730811204 Train Loss 0.20287284413775938\n",
      "Batch 200 Acc 0.91968 Train Loss 0.2063281443709941\n",
      "Epoch 2, Acc ('accuracy', 0.91968), Train Loss 0.2063281443709941\n",
      "Test Acc 0.8931338056248037\n",
      "Batch 0 Acc 0.96875 Train Loss 0.11559007503092289\n",
      "Batch 25 Acc 0.9555288461538461 Train Loss 0.12070494463953835\n",
      "Batch 50 Acc 0.9563167818981773 Train Loss 0.11813478415612788\n",
      "Batch 75 Acc 0.955353408615642 Train Loss 0.1207337268922282\n",
      "Batch 100 Acc 0.9538571315309601 Train Loss 0.1252613075022496\n",
      "Batch 125 Acc 0.9522720050842072 Train Loss 0.12794575897114266\n",
      "Batch 150 Acc 0.9520974001807645 Train Loss 0.1277398179553716\n",
      "Batch 175 Acc 0.9492025989367986 Train Loss 0.1328575870559441\n",
      "Batch 200 Acc 0.9496 Train Loss 0.13172369681203702\n",
      "Epoch 3, Acc ('accuracy', 0.9496), Train Loss 0.13172369681203702\n",
      "Test Acc 0.8903261117599718\n",
      "Batch 0 Acc 0.9453125 Train Loss 0.1339572393335402\n",
      "Batch 25 Acc 0.98046875 Train Loss 0.06459087736080758\n",
      "Batch 50 Acc 0.9809196121363779 Train Loss 0.061900109768269915\n",
      "Batch 75 Acc 0.9763928234183191 Train Loss 0.06908859178733301\n",
      "Batch 100 Acc 0.9752910430030887 Train Loss 0.07276507939666159\n",
      "Batch 125 Acc 0.9741580842863461 Train Loss 0.07529616688187825\n",
      "Batch 150 Acc 0.9738266673674253 Train Loss 0.07594001857912329\n",
      "Batch 175 Acc 0.9733514001806685 Train Loss 0.0774891070872069\n",
      "Batch 200 Acc 0.97268 Train Loss 0.07956491806289162\n",
      "Epoch 4, Acc ('accuracy', 0.97268), Train Loss 0.07956491806289162\n",
      "Test Acc 0.8909250384000078\n"
     ]
    }
   ],
   "source": [
    "lr, num_epochs = 0.001, 5\n",
    "trainer = gluon.Trainer(net.collect_params(), 'adam', {'learning_rate': lr}, update_on_kvstore=False)\n",
    "loss = gluon.loss.SoftmaxCrossEntropyLoss()\n",
    "train(net, train_dataloader, test_dataloader, loss, trainer, num_epochs, ctx)"
   ]
  },
  {
   "cell_type": "markdown",
   "metadata": {
    "slideshow": {
     "slide_type": "skip"
    }
   },
   "source": [
    "Below, we use the trained model to the classify sentiments of two simple sentences."
   ]
  },
  {
   "cell_type": "code",
   "execution_count": 41,
   "metadata": {
    "slideshow": {
     "slide_type": "subslide"
    }
   },
   "outputs": [
    {
     "data": {
      "text/plain": [
       "'negative'"
      ]
     },
     "execution_count": 41,
     "metadata": {},
     "output_type": "execute_result"
    }
   ],
   "source": [
    "predict_sentiment(net, vocab, 'this movie is so great')"
   ]
  },
  {
   "cell_type": "code",
   "execution_count": 42,
   "metadata": {
    "slideshow": {
     "slide_type": "fragment"
    }
   },
   "outputs": [
    {
     "data": {
      "text/plain": [
       "'negative'"
      ]
     },
     "execution_count": 42,
     "metadata": {},
     "output_type": "execute_result"
    }
   ],
   "source": [
    "predict_sentiment(net, vocab, 'this movie is so bad')"
   ]
  }
 ],
 "metadata": {
  "celltoolbar": "Slideshow",
  "kernelspec": {
   "display_name": "Python 3",
   "language": "python",
   "name": "python3"
  },
  "language_info": {
   "codemirror_mode": {
    "name": "ipython",
    "version": 3
   },
   "file_extension": ".py",
   "mimetype": "text/x-python",
   "name": "python",
   "nbconvert_exporter": "python",
   "pygments_lexer": "ipython3",
   "version": "3.6.8"
  },
  "toc": {
   "base_numbering": 1,
   "nav_menu": {},
   "number_sections": true,
   "sideBar": true,
   "skip_h1_title": false,
   "title_cell": "Table of Contents",
   "title_sidebar": "Contents",
   "toc_cell": false,
   "toc_position": {},
   "toc_section_display": true,
   "toc_window_display": false
  }
 },
 "nbformat": 4,
 "nbformat_minor": 2
}
